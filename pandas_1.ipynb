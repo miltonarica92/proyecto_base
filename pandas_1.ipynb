{
 "cells": [
  {
   "cell_type": "markdown",
   "metadata": {},
   "source": [
    "# Overview"
   ]
  },
  {
   "cell_type": "code",
   "execution_count": 1,
   "metadata": {},
   "outputs": [
    {
     "output_type": "execute_result",
     "data": {
      "text/plain": "'1.0.3'"
     },
     "metadata": {},
     "execution_count": 1
    }
   ],
   "source": [
    "import pandas as pd\n",
    "\n",
    "pd.__version__"
   ]
  },
  {
   "cell_type": "code",
   "execution_count": 2,
   "metadata": {},
   "outputs": [],
   "source": [
    "a = [1, 'a', None, True]"
   ]
  },
  {
   "cell_type": "code",
   "execution_count": 8,
   "metadata": {},
   "outputs": [
    {
     "output_type": "execute_result",
     "data": {
      "text/plain": "[1, 'a', None, True]"
     },
     "metadata": {},
     "execution_count": 8
    }
   ],
   "source": [
    "a"
   ]
  },
  {
   "cell_type": "code",
   "execution_count": 3,
   "metadata": {},
   "outputs": [
    {
     "output_type": "stream",
     "name": "stdout",
     "text": "1\nTrue\n"
    }
   ],
   "source": [
    "print(a[0])\n",
    "print(a[3])"
   ]
  },
  {
   "cell_type": "markdown",
   "metadata": {},
   "source": [
    "## Series"
   ]
  },
  {
   "cell_type": "code",
   "execution_count": 6,
   "metadata": {},
   "outputs": [],
   "source": [
    "s = pd.Series([3, -5, 7, 4], index=['a', 'b', 'c', 'd'])"
   ]
  },
  {
   "cell_type": "code",
   "execution_count": 7,
   "metadata": {},
   "outputs": [
    {
     "output_type": "execute_result",
     "data": {
      "text/plain": "a    3\nb   -5\nc    7\nd    4\ndtype: int64"
     },
     "metadata": {},
     "execution_count": 7
    }
   ],
   "source": [
    "s"
   ]
  },
  {
   "cell_type": "code",
   "execution_count": 10,
   "metadata": {},
   "outputs": [
    {
     "output_type": "stream",
     "name": "stdout",
     "text": "3\n7\n"
    },
    {
     "output_type": "execute_result",
     "data": {
      "text/plain": "-5"
     },
     "metadata": {},
     "execution_count": 10
    }
   ],
   "source": [
    "print(s['a'])\n",
    "print(s['c'])\n",
    "s[1]"
   ]
  },
  {
   "cell_type": "markdown",
   "metadata": {},
   "source": [
    "## DataFrame"
   ]
  },
  {
   "cell_type": "code",
   "execution_count": 12,
   "metadata": {},
   "outputs": [],
   "source": [
    "data = {'Country': ['Belgium', 'India', 'Brazil'],\n",
    "        'Capital': ['Brussels', 'New Delhi', 'Brasília'],\n",
    "        'Population': [11190846, 1303171035, 207847528]}"
   ]
  },
  {
   "cell_type": "code",
   "execution_count": 13,
   "metadata": {},
   "outputs": [
    {
     "output_type": "stream",
     "name": "stdout",
     "text": "['Belgium', 'India', 'Brazil']\n"
    },
    {
     "output_type": "execute_result",
     "data": {
      "text/plain": "[11190846, 1303171035, 207847528]"
     },
     "metadata": {},
     "execution_count": 13
    }
   ],
   "source": [
    "print(data['Country'])\n",
    "data['Population']"
   ]
  },
  {
   "cell_type": "code",
   "execution_count": 15,
   "metadata": {},
   "outputs": [
    {
     "output_type": "stream",
     "name": "stdout",
     "text": "Country    Capital  Population\n0  Belgium   Brussels    11190846\n1    India  New Delhi  1303171035\n2   Brazil   Brasília   207847528\n"
    },
    {
     "output_type": "execute_result",
     "data": {
      "text/plain": "   Country    Capital\n0  Belgium   Brussels\n1    India  New Delhi\n2   Brazil   Brasília",
      "text/html": "<div>\n<style scoped>\n    .dataframe tbody tr th:only-of-type {\n        vertical-align: middle;\n    }\n\n    .dataframe tbody tr th {\n        vertical-align: top;\n    }\n\n    .dataframe thead th {\n        text-align: right;\n    }\n</style>\n<table border=\"1\" class=\"dataframe\">\n  <thead>\n    <tr style=\"text-align: right;\">\n      <th></th>\n      <th>Country</th>\n      <th>Capital</th>\n    </tr>\n  </thead>\n  <tbody>\n    <tr>\n      <th>0</th>\n      <td>Belgium</td>\n      <td>Brussels</td>\n    </tr>\n    <tr>\n      <th>1</th>\n      <td>India</td>\n      <td>New Delhi</td>\n    </tr>\n    <tr>\n      <th>2</th>\n      <td>Brazil</td>\n      <td>Brasília</td>\n    </tr>\n  </tbody>\n</table>\n</div>"
     },
     "metadata": {},
     "execution_count": 15
    }
   ],
   "source": [
    "df = pd.DataFrame(data)\n",
    "print(df)\n",
    "pd.DataFrame(data, columns=['Country', 'Capital'])"
   ]
  },
  {
   "cell_type": "code",
   "execution_count": 23,
   "metadata": {},
   "outputs": [
    {
     "output_type": "execute_result",
     "data": {
      "text/plain": "  C1 C2     C3\n0  1  a   True\n1  2  c  False",
      "text/html": "<div>\n<style scoped>\n    .dataframe tbody tr th:only-of-type {\n        vertical-align: middle;\n    }\n\n    .dataframe tbody tr th {\n        vertical-align: top;\n    }\n\n    .dataframe thead th {\n        text-align: right;\n    }\n</style>\n<table border=\"1\" class=\"dataframe\">\n  <thead>\n    <tr style=\"text-align: right;\">\n      <th></th>\n      <th>C1</th>\n      <th>C2</th>\n      <th>C3</th>\n    </tr>\n  </thead>\n  <tbody>\n    <tr>\n      <th>0</th>\n      <td>1</td>\n      <td>a</td>\n      <td>True</td>\n    </tr>\n    <tr>\n      <th>1</th>\n      <td>2</td>\n      <td>c</td>\n      <td>False</td>\n    </tr>\n  </tbody>\n</table>\n</div>"
     },
     "metadata": {},
     "execution_count": 23
    }
   ],
   "source": [
    "import numpy as np\n",
    "data_dummy = pd.DataFrame(data=np.array([[1,'a',True], [2,'c',False]]), columns=['C1', 'C2', 'C3'])\n",
    "data_dummy"
   ]
  },
  {
   "cell_type": "markdown",
   "metadata": {},
   "source": [
    "## I/O"
   ]
  },
  {
   "cell_type": "code",
   "execution_count": 26,
   "metadata": {},
   "outputs": [
    {
     "output_type": "execute_result",
     "data": {
      "text/plain": "    ID  Age Gender  GenderGroup Glasses  GlassesGroup  Height  Wingspan  \\\n0    1   56      F            1       Y             1   62.00      61.0   \n1    2   26      F            1       Y             1   62.00      60.0   \n2    3   33      F            1       Y             1   66.00      64.0   \n3    4   39      F            1       N             0   64.00      63.0   \n4    5   27      M            2       N             0   73.00      75.0   \n5    6   24      M            2       N             0   75.00      71.0   \n6    7   28      M            2       N             0   75.00      76.0   \n7    8   22      F            1       N             0   65.00      62.0   \n8    9   29      M            2       Y             1   74.00      73.0   \n9   10   33      F            1       Y             1   63.00      60.0   \n10  11   30      M            2       Y             1   69.50      66.0   \n11  12   28      F            1       Y             1   62.75      58.0   \n12  13   25      F            1       Y             1   65.00      64.5   \n13  14   23      F            1       N             0   61.50      57.5   \n14  15   31      M            2       Y             1   73.00      74.0   \n15  16   26      M            2       Y             1   71.00      72.0   \n16  17   26      F            1       N             0   61.50      59.5   \n17  18   27      M            2       N             0   66.00      66.0   \n18  19   23      M            2       Y             1   70.00      69.0   \n19  20   24      F            1       Y             1   68.00      66.0   \n20  21   23      M            2       Y             1   69.00      67.0   \n21  22   29      M            2       N             0   71.00      70.0   \n22  23   25      M            2       N             0   70.00      68.0   \n23  24   26      M            2       N             0   69.00      71.0   \n24  25   23      F            1       Y             1   65.00      63.0   \n\n    CWDistance Complete  CompleteGroup  Score  \n0           79        Y              1      7  \n1           70        Y              1      8  \n2           85        Y              1      7  \n3           87        Y              1     10  \n4           72        N              0      4  \n5           81        N              0      3  \n6          107        Y              1     10  \n7           98        Y              1      9  \n8          106        N              0      5  \n9           65        Y              1      8  \n10          96        Y              1      6  \n11          79        Y              1     10  \n12          92        Y              1      6  \n13          66        Y              1      4  \n14          72        Y              1      9  \n15         115        Y              1      6  \n16          90        N              0     10  \n17          74        Y              1      5  \n18          64        Y              1      3  \n19          85        Y              1      8  \n20          66        N              0      2  \n21         101        Y              1      8  \n22          82        Y              1      4  \n23          63        Y              1      5  \n24          67        N              0      3  ",
      "text/html": "<div>\n<style scoped>\n    .dataframe tbody tr th:only-of-type {\n        vertical-align: middle;\n    }\n\n    .dataframe tbody tr th {\n        vertical-align: top;\n    }\n\n    .dataframe thead th {\n        text-align: right;\n    }\n</style>\n<table border=\"1\" class=\"dataframe\">\n  <thead>\n    <tr style=\"text-align: right;\">\n      <th></th>\n      <th>ID</th>\n      <th>Age</th>\n      <th>Gender</th>\n      <th>GenderGroup</th>\n      <th>Glasses</th>\n      <th>GlassesGroup</th>\n      <th>Height</th>\n      <th>Wingspan</th>\n      <th>CWDistance</th>\n      <th>Complete</th>\n      <th>CompleteGroup</th>\n      <th>Score</th>\n    </tr>\n  </thead>\n  <tbody>\n    <tr>\n      <th>0</th>\n      <td>1</td>\n      <td>56</td>\n      <td>F</td>\n      <td>1</td>\n      <td>Y</td>\n      <td>1</td>\n      <td>62.00</td>\n      <td>61.0</td>\n      <td>79</td>\n      <td>Y</td>\n      <td>1</td>\n      <td>7</td>\n    </tr>\n    <tr>\n      <th>1</th>\n      <td>2</td>\n      <td>26</td>\n      <td>F</td>\n      <td>1</td>\n      <td>Y</td>\n      <td>1</td>\n      <td>62.00</td>\n      <td>60.0</td>\n      <td>70</td>\n      <td>Y</td>\n      <td>1</td>\n      <td>8</td>\n    </tr>\n    <tr>\n      <th>2</th>\n      <td>3</td>\n      <td>33</td>\n      <td>F</td>\n      <td>1</td>\n      <td>Y</td>\n      <td>1</td>\n      <td>66.00</td>\n      <td>64.0</td>\n      <td>85</td>\n      <td>Y</td>\n      <td>1</td>\n      <td>7</td>\n    </tr>\n    <tr>\n      <th>3</th>\n      <td>4</td>\n      <td>39</td>\n      <td>F</td>\n      <td>1</td>\n      <td>N</td>\n      <td>0</td>\n      <td>64.00</td>\n      <td>63.0</td>\n      <td>87</td>\n      <td>Y</td>\n      <td>1</td>\n      <td>10</td>\n    </tr>\n    <tr>\n      <th>4</th>\n      <td>5</td>\n      <td>27</td>\n      <td>M</td>\n      <td>2</td>\n      <td>N</td>\n      <td>0</td>\n      <td>73.00</td>\n      <td>75.0</td>\n      <td>72</td>\n      <td>N</td>\n      <td>0</td>\n      <td>4</td>\n    </tr>\n    <tr>\n      <th>5</th>\n      <td>6</td>\n      <td>24</td>\n      <td>M</td>\n      <td>2</td>\n      <td>N</td>\n      <td>0</td>\n      <td>75.00</td>\n      <td>71.0</td>\n      <td>81</td>\n      <td>N</td>\n      <td>0</td>\n      <td>3</td>\n    </tr>\n    <tr>\n      <th>6</th>\n      <td>7</td>\n      <td>28</td>\n      <td>M</td>\n      <td>2</td>\n      <td>N</td>\n      <td>0</td>\n      <td>75.00</td>\n      <td>76.0</td>\n      <td>107</td>\n      <td>Y</td>\n      <td>1</td>\n      <td>10</td>\n    </tr>\n    <tr>\n      <th>7</th>\n      <td>8</td>\n      <td>22</td>\n      <td>F</td>\n      <td>1</td>\n      <td>N</td>\n      <td>0</td>\n      <td>65.00</td>\n      <td>62.0</td>\n      <td>98</td>\n      <td>Y</td>\n      <td>1</td>\n      <td>9</td>\n    </tr>\n    <tr>\n      <th>8</th>\n      <td>9</td>\n      <td>29</td>\n      <td>M</td>\n      <td>2</td>\n      <td>Y</td>\n      <td>1</td>\n      <td>74.00</td>\n      <td>73.0</td>\n      <td>106</td>\n      <td>N</td>\n      <td>0</td>\n      <td>5</td>\n    </tr>\n    <tr>\n      <th>9</th>\n      <td>10</td>\n      <td>33</td>\n      <td>F</td>\n      <td>1</td>\n      <td>Y</td>\n      <td>1</td>\n      <td>63.00</td>\n      <td>60.0</td>\n      <td>65</td>\n      <td>Y</td>\n      <td>1</td>\n      <td>8</td>\n    </tr>\n    <tr>\n      <th>10</th>\n      <td>11</td>\n      <td>30</td>\n      <td>M</td>\n      <td>2</td>\n      <td>Y</td>\n      <td>1</td>\n      <td>69.50</td>\n      <td>66.0</td>\n      <td>96</td>\n      <td>Y</td>\n      <td>1</td>\n      <td>6</td>\n    </tr>\n    <tr>\n      <th>11</th>\n      <td>12</td>\n      <td>28</td>\n      <td>F</td>\n      <td>1</td>\n      <td>Y</td>\n      <td>1</td>\n      <td>62.75</td>\n      <td>58.0</td>\n      <td>79</td>\n      <td>Y</td>\n      <td>1</td>\n      <td>10</td>\n    </tr>\n    <tr>\n      <th>12</th>\n      <td>13</td>\n      <td>25</td>\n      <td>F</td>\n      <td>1</td>\n      <td>Y</td>\n      <td>1</td>\n      <td>65.00</td>\n      <td>64.5</td>\n      <td>92</td>\n      <td>Y</td>\n      <td>1</td>\n      <td>6</td>\n    </tr>\n    <tr>\n      <th>13</th>\n      <td>14</td>\n      <td>23</td>\n      <td>F</td>\n      <td>1</td>\n      <td>N</td>\n      <td>0</td>\n      <td>61.50</td>\n      <td>57.5</td>\n      <td>66</td>\n      <td>Y</td>\n      <td>1</td>\n      <td>4</td>\n    </tr>\n    <tr>\n      <th>14</th>\n      <td>15</td>\n      <td>31</td>\n      <td>M</td>\n      <td>2</td>\n      <td>Y</td>\n      <td>1</td>\n      <td>73.00</td>\n      <td>74.0</td>\n      <td>72</td>\n      <td>Y</td>\n      <td>1</td>\n      <td>9</td>\n    </tr>\n    <tr>\n      <th>15</th>\n      <td>16</td>\n      <td>26</td>\n      <td>M</td>\n      <td>2</td>\n      <td>Y</td>\n      <td>1</td>\n      <td>71.00</td>\n      <td>72.0</td>\n      <td>115</td>\n      <td>Y</td>\n      <td>1</td>\n      <td>6</td>\n    </tr>\n    <tr>\n      <th>16</th>\n      <td>17</td>\n      <td>26</td>\n      <td>F</td>\n      <td>1</td>\n      <td>N</td>\n      <td>0</td>\n      <td>61.50</td>\n      <td>59.5</td>\n      <td>90</td>\n      <td>N</td>\n      <td>0</td>\n      <td>10</td>\n    </tr>\n    <tr>\n      <th>17</th>\n      <td>18</td>\n      <td>27</td>\n      <td>M</td>\n      <td>2</td>\n      <td>N</td>\n      <td>0</td>\n      <td>66.00</td>\n      <td>66.0</td>\n      <td>74</td>\n      <td>Y</td>\n      <td>1</td>\n      <td>5</td>\n    </tr>\n    <tr>\n      <th>18</th>\n      <td>19</td>\n      <td>23</td>\n      <td>M</td>\n      <td>2</td>\n      <td>Y</td>\n      <td>1</td>\n      <td>70.00</td>\n      <td>69.0</td>\n      <td>64</td>\n      <td>Y</td>\n      <td>1</td>\n      <td>3</td>\n    </tr>\n    <tr>\n      <th>19</th>\n      <td>20</td>\n      <td>24</td>\n      <td>F</td>\n      <td>1</td>\n      <td>Y</td>\n      <td>1</td>\n      <td>68.00</td>\n      <td>66.0</td>\n      <td>85</td>\n      <td>Y</td>\n      <td>1</td>\n      <td>8</td>\n    </tr>\n    <tr>\n      <th>20</th>\n      <td>21</td>\n      <td>23</td>\n      <td>M</td>\n      <td>2</td>\n      <td>Y</td>\n      <td>1</td>\n      <td>69.00</td>\n      <td>67.0</td>\n      <td>66</td>\n      <td>N</td>\n      <td>0</td>\n      <td>2</td>\n    </tr>\n    <tr>\n      <th>21</th>\n      <td>22</td>\n      <td>29</td>\n      <td>M</td>\n      <td>2</td>\n      <td>N</td>\n      <td>0</td>\n      <td>71.00</td>\n      <td>70.0</td>\n      <td>101</td>\n      <td>Y</td>\n      <td>1</td>\n      <td>8</td>\n    </tr>\n    <tr>\n      <th>22</th>\n      <td>23</td>\n      <td>25</td>\n      <td>M</td>\n      <td>2</td>\n      <td>N</td>\n      <td>0</td>\n      <td>70.00</td>\n      <td>68.0</td>\n      <td>82</td>\n      <td>Y</td>\n      <td>1</td>\n      <td>4</td>\n    </tr>\n    <tr>\n      <th>23</th>\n      <td>24</td>\n      <td>26</td>\n      <td>M</td>\n      <td>2</td>\n      <td>N</td>\n      <td>0</td>\n      <td>69.00</td>\n      <td>71.0</td>\n      <td>63</td>\n      <td>Y</td>\n      <td>1</td>\n      <td>5</td>\n    </tr>\n    <tr>\n      <th>24</th>\n      <td>25</td>\n      <td>23</td>\n      <td>F</td>\n      <td>1</td>\n      <td>Y</td>\n      <td>1</td>\n      <td>65.00</td>\n      <td>63.0</td>\n      <td>67</td>\n      <td>N</td>\n      <td>0</td>\n      <td>3</td>\n    </tr>\n  </tbody>\n</table>\n</div>"
     },
     "metadata": {},
     "execution_count": 26
    }
   ],
   "source": [
    "dataset = pd.read_csv('./jupyter/Cartwheeldata.csv')\n",
    "dataset"
   ]
  },
  {
   "cell_type": "code",
   "execution_count": 25,
   "metadata": {},
   "outputs": [],
   "source": [
    "data_dummy.to_csv('dummy.csv', index=None)"
   ]
  },
  {
   "cell_type": "markdown",
   "metadata": {},
   "source": [
    "## INSPECT, SEARCH AND FILTER"
   ]
  },
  {
   "cell_type": "code",
   "execution_count": 28,
   "metadata": {},
   "outputs": [
    {
     "output_type": "stream",
     "name": "stdout",
     "text": "(25, 12)\n25\n12\n"
    }
   ],
   "source": [
    "print(dataset.shape)\n",
    "print(dataset.shape[0])\n",
    "print(dataset.shape[1])"
   ]
  },
  {
   "cell_type": "code",
   "execution_count": 29,
   "metadata": {},
   "outputs": [
    {
     "output_type": "execute_result",
     "data": {
      "text/plain": "Index(['ID', 'Age', 'Gender', 'GenderGroup', 'Glasses', 'GlassesGroup',\n       'Height', 'Wingspan', 'CWDistance', 'Complete', 'CompleteGroup',\n       'Score'],\n      dtype='object')"
     },
     "metadata": {},
     "execution_count": 29
    }
   ],
   "source": [
    "dataset.columns"
   ]
  },
  {
   "cell_type": "code",
   "execution_count": 30,
   "metadata": {},
   "outputs": [
    {
     "output_type": "execute_result",
     "data": {
      "text/plain": "ID                 int64\nAge                int64\nGender            object\nGenderGroup        int64\nGlasses           object\nGlassesGroup       int64\nHeight           float64\nWingspan         float64\nCWDistance         int64\nComplete          object\nCompleteGroup      int64\nScore              int64\ndtype: object"
     },
     "metadata": {},
     "execution_count": 30
    }
   ],
   "source": [
    "dataset.dtypes"
   ]
  },
  {
   "cell_type": "code",
   "execution_count": 31,
   "metadata": {},
   "outputs": [
    {
     "output_type": "execute_result",
     "data": {
      "text/plain": "   ID  Age Gender  GenderGroup Glasses  GlassesGroup  Height  Wingspan  \\\n0   1   56      F            1       Y             1    62.0      61.0   \n1   2   26      F            1       Y             1    62.0      60.0   \n2   3   33      F            1       Y             1    66.0      64.0   \n3   4   39      F            1       N             0    64.0      63.0   \n4   5   27      M            2       N             0    73.0      75.0   \n\n   CWDistance Complete  CompleteGroup  Score  \n0          79        Y              1      7  \n1          70        Y              1      8  \n2          85        Y              1      7  \n3          87        Y              1     10  \n4          72        N              0      4  ",
      "text/html": "<div>\n<style scoped>\n    .dataframe tbody tr th:only-of-type {\n        vertical-align: middle;\n    }\n\n    .dataframe tbody tr th {\n        vertical-align: top;\n    }\n\n    .dataframe thead th {\n        text-align: right;\n    }\n</style>\n<table border=\"1\" class=\"dataframe\">\n  <thead>\n    <tr style=\"text-align: right;\">\n      <th></th>\n      <th>ID</th>\n      <th>Age</th>\n      <th>Gender</th>\n      <th>GenderGroup</th>\n      <th>Glasses</th>\n      <th>GlassesGroup</th>\n      <th>Height</th>\n      <th>Wingspan</th>\n      <th>CWDistance</th>\n      <th>Complete</th>\n      <th>CompleteGroup</th>\n      <th>Score</th>\n    </tr>\n  </thead>\n  <tbody>\n    <tr>\n      <th>0</th>\n      <td>1</td>\n      <td>56</td>\n      <td>F</td>\n      <td>1</td>\n      <td>Y</td>\n      <td>1</td>\n      <td>62.0</td>\n      <td>61.0</td>\n      <td>79</td>\n      <td>Y</td>\n      <td>1</td>\n      <td>7</td>\n    </tr>\n    <tr>\n      <th>1</th>\n      <td>2</td>\n      <td>26</td>\n      <td>F</td>\n      <td>1</td>\n      <td>Y</td>\n      <td>1</td>\n      <td>62.0</td>\n      <td>60.0</td>\n      <td>70</td>\n      <td>Y</td>\n      <td>1</td>\n      <td>8</td>\n    </tr>\n    <tr>\n      <th>2</th>\n      <td>3</td>\n      <td>33</td>\n      <td>F</td>\n      <td>1</td>\n      <td>Y</td>\n      <td>1</td>\n      <td>66.0</td>\n      <td>64.0</td>\n      <td>85</td>\n      <td>Y</td>\n      <td>1</td>\n      <td>7</td>\n    </tr>\n    <tr>\n      <th>3</th>\n      <td>4</td>\n      <td>39</td>\n      <td>F</td>\n      <td>1</td>\n      <td>N</td>\n      <td>0</td>\n      <td>64.0</td>\n      <td>63.0</td>\n      <td>87</td>\n      <td>Y</td>\n      <td>1</td>\n      <td>10</td>\n    </tr>\n    <tr>\n      <th>4</th>\n      <td>5</td>\n      <td>27</td>\n      <td>M</td>\n      <td>2</td>\n      <td>N</td>\n      <td>0</td>\n      <td>73.0</td>\n      <td>75.0</td>\n      <td>72</td>\n      <td>N</td>\n      <td>0</td>\n      <td>4</td>\n    </tr>\n  </tbody>\n</table>\n</div>"
     },
     "metadata": {},
     "execution_count": 31
    }
   ],
   "source": [
    "dataset.head()"
   ]
  },
  {
   "cell_type": "code",
   "execution_count": 36,
   "metadata": {},
   "outputs": [
    {
     "output_type": "execute_result",
     "data": {
      "text/plain": "    ID  Age Gender  GenderGroup Glasses  GlassesGroup  Height  Wingspan  \\\n20  21   23      M            2       Y             1    69.0      67.0   \n21  22   29      M            2       N             0    71.0      70.0   \n22  23   25      M            2       N             0    70.0      68.0   \n23  24   26      M            2       N             0    69.0      71.0   \n24  25   23      F            1       Y             1    65.0      63.0   \n\n    CWDistance Complete  CompleteGroup  Score  \n20          66        N              0      2  \n21         101        Y              1      8  \n22          82        Y              1      4  \n23          63        Y              1      5  \n24          67        N              0      3  ",
      "text/html": "<div>\n<style scoped>\n    .dataframe tbody tr th:only-of-type {\n        vertical-align: middle;\n    }\n\n    .dataframe tbody tr th {\n        vertical-align: top;\n    }\n\n    .dataframe thead th {\n        text-align: right;\n    }\n</style>\n<table border=\"1\" class=\"dataframe\">\n  <thead>\n    <tr style=\"text-align: right;\">\n      <th></th>\n      <th>ID</th>\n      <th>Age</th>\n      <th>Gender</th>\n      <th>GenderGroup</th>\n      <th>Glasses</th>\n      <th>GlassesGroup</th>\n      <th>Height</th>\n      <th>Wingspan</th>\n      <th>CWDistance</th>\n      <th>Complete</th>\n      <th>CompleteGroup</th>\n      <th>Score</th>\n    </tr>\n  </thead>\n  <tbody>\n    <tr>\n      <th>20</th>\n      <td>21</td>\n      <td>23</td>\n      <td>M</td>\n      <td>2</td>\n      <td>Y</td>\n      <td>1</td>\n      <td>69.0</td>\n      <td>67.0</td>\n      <td>66</td>\n      <td>N</td>\n      <td>0</td>\n      <td>2</td>\n    </tr>\n    <tr>\n      <th>21</th>\n      <td>22</td>\n      <td>29</td>\n      <td>M</td>\n      <td>2</td>\n      <td>N</td>\n      <td>0</td>\n      <td>71.0</td>\n      <td>70.0</td>\n      <td>101</td>\n      <td>Y</td>\n      <td>1</td>\n      <td>8</td>\n    </tr>\n    <tr>\n      <th>22</th>\n      <td>23</td>\n      <td>25</td>\n      <td>M</td>\n      <td>2</td>\n      <td>N</td>\n      <td>0</td>\n      <td>70.0</td>\n      <td>68.0</td>\n      <td>82</td>\n      <td>Y</td>\n      <td>1</td>\n      <td>4</td>\n    </tr>\n    <tr>\n      <th>23</th>\n      <td>24</td>\n      <td>26</td>\n      <td>M</td>\n      <td>2</td>\n      <td>N</td>\n      <td>0</td>\n      <td>69.0</td>\n      <td>71.0</td>\n      <td>63</td>\n      <td>Y</td>\n      <td>1</td>\n      <td>5</td>\n    </tr>\n    <tr>\n      <th>24</th>\n      <td>25</td>\n      <td>23</td>\n      <td>F</td>\n      <td>1</td>\n      <td>Y</td>\n      <td>1</td>\n      <td>65.0</td>\n      <td>63.0</td>\n      <td>67</td>\n      <td>N</td>\n      <td>0</td>\n      <td>3</td>\n    </tr>\n  </tbody>\n</table>\n</div>"
     },
     "metadata": {},
     "execution_count": 36
    }
   ],
   "source": [
    "dataset.tail()"
   ]
  },
  {
   "cell_type": "code",
   "execution_count": 37,
   "metadata": {},
   "outputs": [
    {
     "output_type": "execute_result",
     "data": {
      "text/plain": "0     56\n1     26\n2     33\n3     39\n4     27\n5     24\n6     28\n7     22\n8     29\n9     33\n10    30\n11    28\n12    25\n13    23\n14    31\n15    26\n16    26\n17    27\n18    23\n19    24\n20    23\n21    29\n22    25\n23    26\n24    23\nName: Age, dtype: int64"
     },
     "metadata": {},
     "execution_count": 37
    }
   ],
   "source": [
    "dataset['Age'] # pd.Serie"
   ]
  },
  {
   "cell_type": "code",
   "execution_count": 38,
   "metadata": {},
   "outputs": [
    {
     "output_type": "execute_result",
     "data": {
      "text/plain": "    Age\n0    56\n1    26\n2    33\n3    39\n4    27\n5    24\n6    28\n7    22\n8    29\n9    33\n10   30\n11   28\n12   25\n13   23\n14   31\n15   26\n16   26\n17   27\n18   23\n19   24\n20   23\n21   29\n22   25\n23   26\n24   23",
      "text/html": "<div>\n<style scoped>\n    .dataframe tbody tr th:only-of-type {\n        vertical-align: middle;\n    }\n\n    .dataframe tbody tr th {\n        vertical-align: top;\n    }\n\n    .dataframe thead th {\n        text-align: right;\n    }\n</style>\n<table border=\"1\" class=\"dataframe\">\n  <thead>\n    <tr style=\"text-align: right;\">\n      <th></th>\n      <th>Age</th>\n    </tr>\n  </thead>\n  <tbody>\n    <tr>\n      <th>0</th>\n      <td>56</td>\n    </tr>\n    <tr>\n      <th>1</th>\n      <td>26</td>\n    </tr>\n    <tr>\n      <th>2</th>\n      <td>33</td>\n    </tr>\n    <tr>\n      <th>3</th>\n      <td>39</td>\n    </tr>\n    <tr>\n      <th>4</th>\n      <td>27</td>\n    </tr>\n    <tr>\n      <th>5</th>\n      <td>24</td>\n    </tr>\n    <tr>\n      <th>6</th>\n      <td>28</td>\n    </tr>\n    <tr>\n      <th>7</th>\n      <td>22</td>\n    </tr>\n    <tr>\n      <th>8</th>\n      <td>29</td>\n    </tr>\n    <tr>\n      <th>9</th>\n      <td>33</td>\n    </tr>\n    <tr>\n      <th>10</th>\n      <td>30</td>\n    </tr>\n    <tr>\n      <th>11</th>\n      <td>28</td>\n    </tr>\n    <tr>\n      <th>12</th>\n      <td>25</td>\n    </tr>\n    <tr>\n      <th>13</th>\n      <td>23</td>\n    </tr>\n    <tr>\n      <th>14</th>\n      <td>31</td>\n    </tr>\n    <tr>\n      <th>15</th>\n      <td>26</td>\n    </tr>\n    <tr>\n      <th>16</th>\n      <td>26</td>\n    </tr>\n    <tr>\n      <th>17</th>\n      <td>27</td>\n    </tr>\n    <tr>\n      <th>18</th>\n      <td>23</td>\n    </tr>\n    <tr>\n      <th>19</th>\n      <td>24</td>\n    </tr>\n    <tr>\n      <th>20</th>\n      <td>23</td>\n    </tr>\n    <tr>\n      <th>21</th>\n      <td>29</td>\n    </tr>\n    <tr>\n      <th>22</th>\n      <td>25</td>\n    </tr>\n    <tr>\n      <th>23</th>\n      <td>26</td>\n    </tr>\n    <tr>\n      <th>24</th>\n      <td>23</td>\n    </tr>\n  </tbody>\n</table>\n</div>"
     },
     "metadata": {},
     "execution_count": 38
    }
   ],
   "source": [
    "dataset[['Age']]"
   ]
  },
  {
   "cell_type": "code",
   "execution_count": 47,
   "metadata": {},
   "outputs": [
    {
     "output_type": "execute_result",
     "data": {
      "text/plain": "    ID  Age Gender  GenderGroup Glasses  GlassesGroup  Height  Wingspan  \\\n4    5   27      M            2       N             0    73.0      75.0   \n5    6   24      M            2       N             0    75.0      71.0   \n6    7   28      M            2       N             0    75.0      76.0   \n8    9   29      M            2       Y             1    74.0      73.0   \n10  11   30      M            2       Y             1    69.5      66.0   \n14  15   31      M            2       Y             1    73.0      74.0   \n15  16   26      M            2       Y             1    71.0      72.0   \n17  18   27      M            2       N             0    66.0      66.0   \n18  19   23      M            2       Y             1    70.0      69.0   \n20  21   23      M            2       Y             1    69.0      67.0   \n21  22   29      M            2       N             0    71.0      70.0   \n22  23   25      M            2       N             0    70.0      68.0   \n23  24   26      M            2       N             0    69.0      71.0   \n\n    CWDistance Complete  CompleteGroup  Score  \n4           72        N              0      4  \n5           81        N              0      3  \n6          107        Y              1     10  \n8          106        N              0      5  \n10          96        Y              1      6  \n14          72        Y              1      9  \n15         115        Y              1      6  \n17          74        Y              1      5  \n18          64        Y              1      3  \n20          66        N              0      2  \n21         101        Y              1      8  \n22          82        Y              1      4  \n23          63        Y              1      5  ",
      "text/html": "<div>\n<style scoped>\n    .dataframe tbody tr th:only-of-type {\n        vertical-align: middle;\n    }\n\n    .dataframe tbody tr th {\n        vertical-align: top;\n    }\n\n    .dataframe thead th {\n        text-align: right;\n    }\n</style>\n<table border=\"1\" class=\"dataframe\">\n  <thead>\n    <tr style=\"text-align: right;\">\n      <th></th>\n      <th>ID</th>\n      <th>Age</th>\n      <th>Gender</th>\n      <th>GenderGroup</th>\n      <th>Glasses</th>\n      <th>GlassesGroup</th>\n      <th>Height</th>\n      <th>Wingspan</th>\n      <th>CWDistance</th>\n      <th>Complete</th>\n      <th>CompleteGroup</th>\n      <th>Score</th>\n    </tr>\n  </thead>\n  <tbody>\n    <tr>\n      <th>4</th>\n      <td>5</td>\n      <td>27</td>\n      <td>M</td>\n      <td>2</td>\n      <td>N</td>\n      <td>0</td>\n      <td>73.0</td>\n      <td>75.0</td>\n      <td>72</td>\n      <td>N</td>\n      <td>0</td>\n      <td>4</td>\n    </tr>\n    <tr>\n      <th>5</th>\n      <td>6</td>\n      <td>24</td>\n      <td>M</td>\n      <td>2</td>\n      <td>N</td>\n      <td>0</td>\n      <td>75.0</td>\n      <td>71.0</td>\n      <td>81</td>\n      <td>N</td>\n      <td>0</td>\n      <td>3</td>\n    </tr>\n    <tr>\n      <th>6</th>\n      <td>7</td>\n      <td>28</td>\n      <td>M</td>\n      <td>2</td>\n      <td>N</td>\n      <td>0</td>\n      <td>75.0</td>\n      <td>76.0</td>\n      <td>107</td>\n      <td>Y</td>\n      <td>1</td>\n      <td>10</td>\n    </tr>\n    <tr>\n      <th>8</th>\n      <td>9</td>\n      <td>29</td>\n      <td>M</td>\n      <td>2</td>\n      <td>Y</td>\n      <td>1</td>\n      <td>74.0</td>\n      <td>73.0</td>\n      <td>106</td>\n      <td>N</td>\n      <td>0</td>\n      <td>5</td>\n    </tr>\n    <tr>\n      <th>10</th>\n      <td>11</td>\n      <td>30</td>\n      <td>M</td>\n      <td>2</td>\n      <td>Y</td>\n      <td>1</td>\n      <td>69.5</td>\n      <td>66.0</td>\n      <td>96</td>\n      <td>Y</td>\n      <td>1</td>\n      <td>6</td>\n    </tr>\n    <tr>\n      <th>14</th>\n      <td>15</td>\n      <td>31</td>\n      <td>M</td>\n      <td>2</td>\n      <td>Y</td>\n      <td>1</td>\n      <td>73.0</td>\n      <td>74.0</td>\n      <td>72</td>\n      <td>Y</td>\n      <td>1</td>\n      <td>9</td>\n    </tr>\n    <tr>\n      <th>15</th>\n      <td>16</td>\n      <td>26</td>\n      <td>M</td>\n      <td>2</td>\n      <td>Y</td>\n      <td>1</td>\n      <td>71.0</td>\n      <td>72.0</td>\n      <td>115</td>\n      <td>Y</td>\n      <td>1</td>\n      <td>6</td>\n    </tr>\n    <tr>\n      <th>17</th>\n      <td>18</td>\n      <td>27</td>\n      <td>M</td>\n      <td>2</td>\n      <td>N</td>\n      <td>0</td>\n      <td>66.0</td>\n      <td>66.0</td>\n      <td>74</td>\n      <td>Y</td>\n      <td>1</td>\n      <td>5</td>\n    </tr>\n    <tr>\n      <th>18</th>\n      <td>19</td>\n      <td>23</td>\n      <td>M</td>\n      <td>2</td>\n      <td>Y</td>\n      <td>1</td>\n      <td>70.0</td>\n      <td>69.0</td>\n      <td>64</td>\n      <td>Y</td>\n      <td>1</td>\n      <td>3</td>\n    </tr>\n    <tr>\n      <th>20</th>\n      <td>21</td>\n      <td>23</td>\n      <td>M</td>\n      <td>2</td>\n      <td>Y</td>\n      <td>1</td>\n      <td>69.0</td>\n      <td>67.0</td>\n      <td>66</td>\n      <td>N</td>\n      <td>0</td>\n      <td>2</td>\n    </tr>\n    <tr>\n      <th>21</th>\n      <td>22</td>\n      <td>29</td>\n      <td>M</td>\n      <td>2</td>\n      <td>N</td>\n      <td>0</td>\n      <td>71.0</td>\n      <td>70.0</td>\n      <td>101</td>\n      <td>Y</td>\n      <td>1</td>\n      <td>8</td>\n    </tr>\n    <tr>\n      <th>22</th>\n      <td>23</td>\n      <td>25</td>\n      <td>M</td>\n      <td>2</td>\n      <td>N</td>\n      <td>0</td>\n      <td>70.0</td>\n      <td>68.0</td>\n      <td>82</td>\n      <td>Y</td>\n      <td>1</td>\n      <td>4</td>\n    </tr>\n    <tr>\n      <th>23</th>\n      <td>24</td>\n      <td>26</td>\n      <td>M</td>\n      <td>2</td>\n      <td>N</td>\n      <td>0</td>\n      <td>69.0</td>\n      <td>71.0</td>\n      <td>63</td>\n      <td>Y</td>\n      <td>1</td>\n      <td>5</td>\n    </tr>\n  </tbody>\n</table>\n</div>"
     },
     "metadata": {},
     "execution_count": 47
    }
   ],
   "source": [
    "# dataframe(condicion) = ...\n",
    "dataset[dataset['Gender']=='M']"
   ]
  },
  {
   "cell_type": "code",
   "execution_count": 48,
   "metadata": {},
   "outputs": [
    {
     "output_type": "execute_result",
     "data": {
      "text/plain": "   ID  Age Gender  GenderGroup Glasses  GlassesGroup  Height  Wingspan  \\\n4   5   27      M            2       N             0    73.0      75.0   \n\n   CWDistance Complete  CompleteGroup  Score  \n4          72        N              0      4  ",
      "text/html": "<div>\n<style scoped>\n    .dataframe tbody tr th:only-of-type {\n        vertical-align: middle;\n    }\n\n    .dataframe tbody tr th {\n        vertical-align: top;\n    }\n\n    .dataframe thead th {\n        text-align: right;\n    }\n</style>\n<table border=\"1\" class=\"dataframe\">\n  <thead>\n    <tr style=\"text-align: right;\">\n      <th></th>\n      <th>ID</th>\n      <th>Age</th>\n      <th>Gender</th>\n      <th>GenderGroup</th>\n      <th>Glasses</th>\n      <th>GlassesGroup</th>\n      <th>Height</th>\n      <th>Wingspan</th>\n      <th>CWDistance</th>\n      <th>Complete</th>\n      <th>CompleteGroup</th>\n      <th>Score</th>\n    </tr>\n  </thead>\n  <tbody>\n    <tr>\n      <th>4</th>\n      <td>5</td>\n      <td>27</td>\n      <td>M</td>\n      <td>2</td>\n      <td>N</td>\n      <td>0</td>\n      <td>73.0</td>\n      <td>75.0</td>\n      <td>72</td>\n      <td>N</td>\n      <td>0</td>\n      <td>4</td>\n    </tr>\n  </tbody>\n</table>\n</div>"
     },
     "metadata": {},
     "execution_count": 48
    }
   ],
   "source": [
    "dataset[dataset['ID']==5]"
   ]
  },
  {
   "cell_type": "markdown",
   "metadata": {},
   "source": [
    "## loc / iloc"
   ]
  },
  {
   "cell_type": "code",
   "execution_count": 56,
   "metadata": {},
   "outputs": [
    {
     "output_type": "execute_result",
     "data": {
      "text/plain": "   Height  CWDistance\n0   100.0       100.0\n2   100.0       100.0\n3   100.0       100.0\n9   100.0       100.0",
      "text/html": "<div>\n<style scoped>\n    .dataframe tbody tr th:only-of-type {\n        vertical-align: middle;\n    }\n\n    .dataframe tbody tr th {\n        vertical-align: top;\n    }\n\n    .dataframe thead th {\n        text-align: right;\n    }\n</style>\n<table border=\"1\" class=\"dataframe\">\n  <thead>\n    <tr style=\"text-align: right;\">\n      <th></th>\n      <th>Height</th>\n      <th>CWDistance</th>\n    </tr>\n  </thead>\n  <tbody>\n    <tr>\n      <th>0</th>\n      <td>100.0</td>\n      <td>100.0</td>\n    </tr>\n    <tr>\n      <th>2</th>\n      <td>100.0</td>\n      <td>100.0</td>\n    </tr>\n    <tr>\n      <th>3</th>\n      <td>100.0</td>\n      <td>100.0</td>\n    </tr>\n    <tr>\n      <th>9</th>\n      <td>100.0</td>\n      <td>100.0</td>\n    </tr>\n  </tbody>\n</table>\n</div>"
     },
     "metadata": {},
     "execution_count": 56
    }
   ],
   "source": [
    "# dataframe.loc[filtro_filas, filtro_columnas]\n",
    "# OPERADORES CONDICIONES DENTRO DE DATAFRAME: &  |  ~\n",
    "# Filtrar para: Genero=MUJERES / Edad>30 / Columnas: Height & CWDistance \n",
    "dataset.loc[(dataset['Gender']=='F') & \n",
    "            (dataset['Age']>30), ['Height', 'CWDistance']]# = 100.0"
   ]
  },
  {
   "cell_type": "code",
   "execution_count": 57,
   "metadata": {},
   "outputs": [
    {
     "output_type": "execute_result",
     "data": {
      "text/plain": "   ID  Age Gender  GenderGroup Glasses  GlassesGroup  Height  Wingspan  \\\n0   1   56      F            1       Y             1   100.0      61.0   \n2   3   33      F            1       Y             1   100.0      64.0   \n3   4   39      F            1       N             0   100.0      63.0   \n9  10   33      F            1       Y             1   100.0      60.0   \n\n   CWDistance Complete  CompleteGroup  Score  \n0       100.0        Y              1      7  \n2       100.0        Y              1      7  \n3       100.0        Y              1     10  \n9       100.0        Y              1      8  ",
      "text/html": "<div>\n<style scoped>\n    .dataframe tbody tr th:only-of-type {\n        vertical-align: middle;\n    }\n\n    .dataframe tbody tr th {\n        vertical-align: top;\n    }\n\n    .dataframe thead th {\n        text-align: right;\n    }\n</style>\n<table border=\"1\" class=\"dataframe\">\n  <thead>\n    <tr style=\"text-align: right;\">\n      <th></th>\n      <th>ID</th>\n      <th>Age</th>\n      <th>Gender</th>\n      <th>GenderGroup</th>\n      <th>Glasses</th>\n      <th>GlassesGroup</th>\n      <th>Height</th>\n      <th>Wingspan</th>\n      <th>CWDistance</th>\n      <th>Complete</th>\n      <th>CompleteGroup</th>\n      <th>Score</th>\n    </tr>\n  </thead>\n  <tbody>\n    <tr>\n      <th>0</th>\n      <td>1</td>\n      <td>56</td>\n      <td>F</td>\n      <td>1</td>\n      <td>Y</td>\n      <td>1</td>\n      <td>100.0</td>\n      <td>61.0</td>\n      <td>100.0</td>\n      <td>Y</td>\n      <td>1</td>\n      <td>7</td>\n    </tr>\n    <tr>\n      <th>2</th>\n      <td>3</td>\n      <td>33</td>\n      <td>F</td>\n      <td>1</td>\n      <td>Y</td>\n      <td>1</td>\n      <td>100.0</td>\n      <td>64.0</td>\n      <td>100.0</td>\n      <td>Y</td>\n      <td>1</td>\n      <td>7</td>\n    </tr>\n    <tr>\n      <th>3</th>\n      <td>4</td>\n      <td>39</td>\n      <td>F</td>\n      <td>1</td>\n      <td>N</td>\n      <td>0</td>\n      <td>100.0</td>\n      <td>63.0</td>\n      <td>100.0</td>\n      <td>Y</td>\n      <td>1</td>\n      <td>10</td>\n    </tr>\n    <tr>\n      <th>9</th>\n      <td>10</td>\n      <td>33</td>\n      <td>F</td>\n      <td>1</td>\n      <td>Y</td>\n      <td>1</td>\n      <td>100.0</td>\n      <td>60.0</td>\n      <td>100.0</td>\n      <td>Y</td>\n      <td>1</td>\n      <td>8</td>\n    </tr>\n  </tbody>\n</table>\n</div>"
     },
     "metadata": {},
     "execution_count": 57
    }
   ],
   "source": [
    "dataset.loc[(dataset['Gender']=='F') & \n",
    "            (dataset['Age']>30), :]"
   ]
  },
  {
   "cell_type": "code",
   "execution_count": 58,
   "metadata": {},
   "outputs": [
    {
     "output_type": "execute_result",
     "data": {
      "text/plain": "    Height  CWDistance\n0   100.00       100.0\n1    62.00        70.0\n2   100.00       100.0\n3   100.00       100.0\n4    73.00        72.0\n5    75.00        81.0\n6    75.00       107.0\n7    65.00        98.0\n8    74.00       106.0\n9   100.00       100.0\n10   69.50        96.0\n11   62.75        79.0\n12   65.00        92.0\n13   61.50        66.0\n14   73.00        72.0\n15   71.00       115.0\n16   61.50        90.0\n17   66.00        74.0\n18   70.00        64.0\n19   68.00        85.0\n20   69.00        66.0\n21   71.00       101.0\n22   70.00        82.0\n23   69.00        63.0\n24   65.00        67.0",
      "text/html": "<div>\n<style scoped>\n    .dataframe tbody tr th:only-of-type {\n        vertical-align: middle;\n    }\n\n    .dataframe tbody tr th {\n        vertical-align: top;\n    }\n\n    .dataframe thead th {\n        text-align: right;\n    }\n</style>\n<table border=\"1\" class=\"dataframe\">\n  <thead>\n    <tr style=\"text-align: right;\">\n      <th></th>\n      <th>Height</th>\n      <th>CWDistance</th>\n    </tr>\n  </thead>\n  <tbody>\n    <tr>\n      <th>0</th>\n      <td>100.00</td>\n      <td>100.0</td>\n    </tr>\n    <tr>\n      <th>1</th>\n      <td>62.00</td>\n      <td>70.0</td>\n    </tr>\n    <tr>\n      <th>2</th>\n      <td>100.00</td>\n      <td>100.0</td>\n    </tr>\n    <tr>\n      <th>3</th>\n      <td>100.00</td>\n      <td>100.0</td>\n    </tr>\n    <tr>\n      <th>4</th>\n      <td>73.00</td>\n      <td>72.0</td>\n    </tr>\n    <tr>\n      <th>5</th>\n      <td>75.00</td>\n      <td>81.0</td>\n    </tr>\n    <tr>\n      <th>6</th>\n      <td>75.00</td>\n      <td>107.0</td>\n    </tr>\n    <tr>\n      <th>7</th>\n      <td>65.00</td>\n      <td>98.0</td>\n    </tr>\n    <tr>\n      <th>8</th>\n      <td>74.00</td>\n      <td>106.0</td>\n    </tr>\n    <tr>\n      <th>9</th>\n      <td>100.00</td>\n      <td>100.0</td>\n    </tr>\n    <tr>\n      <th>10</th>\n      <td>69.50</td>\n      <td>96.0</td>\n    </tr>\n    <tr>\n      <th>11</th>\n      <td>62.75</td>\n      <td>79.0</td>\n    </tr>\n    <tr>\n      <th>12</th>\n      <td>65.00</td>\n      <td>92.0</td>\n    </tr>\n    <tr>\n      <th>13</th>\n      <td>61.50</td>\n      <td>66.0</td>\n    </tr>\n    <tr>\n      <th>14</th>\n      <td>73.00</td>\n      <td>72.0</td>\n    </tr>\n    <tr>\n      <th>15</th>\n      <td>71.00</td>\n      <td>115.0</td>\n    </tr>\n    <tr>\n      <th>16</th>\n      <td>61.50</td>\n      <td>90.0</td>\n    </tr>\n    <tr>\n      <th>17</th>\n      <td>66.00</td>\n      <td>74.0</td>\n    </tr>\n    <tr>\n      <th>18</th>\n      <td>70.00</td>\n      <td>64.0</td>\n    </tr>\n    <tr>\n      <th>19</th>\n      <td>68.00</td>\n      <td>85.0</td>\n    </tr>\n    <tr>\n      <th>20</th>\n      <td>69.00</td>\n      <td>66.0</td>\n    </tr>\n    <tr>\n      <th>21</th>\n      <td>71.00</td>\n      <td>101.0</td>\n    </tr>\n    <tr>\n      <th>22</th>\n      <td>70.00</td>\n      <td>82.0</td>\n    </tr>\n    <tr>\n      <th>23</th>\n      <td>69.00</td>\n      <td>63.0</td>\n    </tr>\n    <tr>\n      <th>24</th>\n      <td>65.00</td>\n      <td>67.0</td>\n    </tr>\n  </tbody>\n</table>\n</div>"
     },
     "metadata": {},
     "execution_count": 58
    }
   ],
   "source": [
    "dataset.loc[:, ['Height', 'CWDistance']]"
   ]
  },
  {
   "cell_type": "code",
   "execution_count": 59,
   "metadata": {},
   "outputs": [
    {
     "output_type": "execute_result",
     "data": {
      "text/plain": "   GenderGroup Glasses  GlassesGroup\n0            1       Y             1\n1            1       Y             1\n2            1       Y             1\n3            1       N             0\n4            2       N             0",
      "text/html": "<div>\n<style scoped>\n    .dataframe tbody tr th:only-of-type {\n        vertical-align: middle;\n    }\n\n    .dataframe tbody tr th {\n        vertical-align: top;\n    }\n\n    .dataframe thead th {\n        text-align: right;\n    }\n</style>\n<table border=\"1\" class=\"dataframe\">\n  <thead>\n    <tr style=\"text-align: right;\">\n      <th></th>\n      <th>GenderGroup</th>\n      <th>Glasses</th>\n      <th>GlassesGroup</th>\n    </tr>\n  </thead>\n  <tbody>\n    <tr>\n      <th>0</th>\n      <td>1</td>\n      <td>Y</td>\n      <td>1</td>\n    </tr>\n    <tr>\n      <th>1</th>\n      <td>1</td>\n      <td>Y</td>\n      <td>1</td>\n    </tr>\n    <tr>\n      <th>2</th>\n      <td>1</td>\n      <td>Y</td>\n      <td>1</td>\n    </tr>\n    <tr>\n      <th>3</th>\n      <td>1</td>\n      <td>N</td>\n      <td>0</td>\n    </tr>\n    <tr>\n      <th>4</th>\n      <td>2</td>\n      <td>N</td>\n      <td>0</td>\n    </tr>\n  </tbody>\n</table>\n</div>"
     },
     "metadata": {},
     "execution_count": 59
    }
   ],
   "source": [
    "# x:y --> inicia en x: hasta antes de y\n",
    "dataset.iloc[0:5, 3:6]"
   ]
  },
  {
   "cell_type": "markdown",
   "metadata": {},
   "source": [
    "## at / iat"
   ]
  },
  {
   "cell_type": "code",
   "execution_count": 69,
   "metadata": {},
   "outputs": [
    {
     "output_type": "execute_result",
     "data": {
      "text/plain": "24"
     },
     "metadata": {},
     "execution_count": 69
    }
   ],
   "source": [
    "dataset.at[5, 'Age']"
   ]
  },
  {
   "cell_type": "code",
   "execution_count": 67,
   "metadata": {},
   "outputs": [
    {
     "output_type": "execute_result",
     "data": {
      "text/plain": "81.0"
     },
     "metadata": {},
     "execution_count": 67
    }
   ],
   "source": [
    "dataset.iat[5, 8]"
   ]
  },
  {
   "cell_type": "code",
   "execution_count": 74,
   "metadata": {},
   "outputs": [
    {
     "output_type": "execute_result",
     "data": {
      "text/plain": "   A   B  C\n0  1  10  9\n1  2  20  8\n2  3  30  7",
      "text/html": "<div>\n<style scoped>\n    .dataframe tbody tr th:only-of-type {\n        vertical-align: middle;\n    }\n\n    .dataframe tbody tr th {\n        vertical-align: top;\n    }\n\n    .dataframe thead th {\n        text-align: right;\n    }\n</style>\n<table border=\"1\" class=\"dataframe\">\n  <thead>\n    <tr style=\"text-align: right;\">\n      <th></th>\n      <th>A</th>\n      <th>B</th>\n      <th>C</th>\n    </tr>\n  </thead>\n  <tbody>\n    <tr>\n      <th>0</th>\n      <td>1</td>\n      <td>10</td>\n      <td>9</td>\n    </tr>\n    <tr>\n      <th>1</th>\n      <td>2</td>\n      <td>20</td>\n      <td>8</td>\n    </tr>\n    <tr>\n      <th>2</th>\n      <td>3</td>\n      <td>30</td>\n      <td>7</td>\n    </tr>\n  </tbody>\n</table>\n</div>"
     },
     "metadata": {},
     "execution_count": 74
    }
   ],
   "source": [
    "num_df = pd.DataFrame({'A':[1,2,3], 'B':[10,20,30], 'C':[9,8,7]})\n",
    "num_df"
   ]
  },
  {
   "cell_type": "code",
   "execution_count": 79,
   "metadata": {},
   "outputs": [],
   "source": [
    "# tabla 1\n",
    "num_df[num_df>8]\n",
    "# tabla copia\n",
    "df_copia = num_df[num_df>8].copy()"
   ]
  },
  {
   "cell_type": "code",
   "execution_count": 84,
   "metadata": {},
   "outputs": [
    {
     "output_type": "execute_result",
     "data": {
      "text/plain": "    A   B    C\n0 NaN  10  9.0\n1 NaN  20  NaN\n2 NaN  30  NaN",
      "text/html": "<div>\n<style scoped>\n    .dataframe tbody tr th:only-of-type {\n        vertical-align: middle;\n    }\n\n    .dataframe tbody tr th {\n        vertical-align: top;\n    }\n\n    .dataframe thead th {\n        text-align: right;\n    }\n</style>\n<table border=\"1\" class=\"dataframe\">\n  <thead>\n    <tr style=\"text-align: right;\">\n      <th></th>\n      <th>A</th>\n      <th>B</th>\n      <th>C</th>\n    </tr>\n  </thead>\n  <tbody>\n    <tr>\n      <th>0</th>\n      <td>NaN</td>\n      <td>10</td>\n      <td>9.0</td>\n    </tr>\n    <tr>\n      <th>1</th>\n      <td>NaN</td>\n      <td>20</td>\n      <td>NaN</td>\n    </tr>\n    <tr>\n      <th>2</th>\n      <td>NaN</td>\n      <td>30</td>\n      <td>NaN</td>\n    </tr>\n  </tbody>\n</table>\n</div>"
     },
     "metadata": {},
     "execution_count": 84
    }
   ],
   "source": [
    "df_copia"
   ]
  },
  {
   "cell_type": "code",
   "execution_count": 89,
   "metadata": {},
   "outputs": [
    {
     "output_type": "stream",
     "name": "stdout",
     "text": "5\n   A   B    C\n0  5  10  9.0\n1  5  20  NaN\n2  5  30  NaN\n"
    }
   ],
   "source": [
    "x = df_copia.loc[:, 'A']\n",
    "x = 5\n",
    "df_copia.loc[:, 'A'] = 5\n",
    "print(x)\n",
    "print(df_copia)"
   ]
  },
  {
   "cell_type": "code",
   "execution_count": 92,
   "metadata": {},
   "outputs": [
    {
     "output_type": "stream",
     "name": "stdout",
     "text": "A      B      C\n0  False  False  False\n1  False  False   True\n2  False  False   True\n"
    },
    {
     "output_type": "execute_result",
     "data": {
      "text/plain": "2"
     },
     "metadata": {},
     "execution_count": 92
    }
   ],
   "source": [
    "print(pd.isna(df_copia))\n",
    "pd.isna(df_copia).sum().sum()"
   ]
  },
  {
   "cell_type": "code",
   "execution_count": 94,
   "metadata": {},
   "outputs": [
    {
     "output_type": "execute_result",
     "data": {
      "text/plain": "   A   B    C\n0  5  10  9.0",
      "text/html": "<div>\n<style scoped>\n    .dataframe tbody tr th:only-of-type {\n        vertical-align: middle;\n    }\n\n    .dataframe tbody tr th {\n        vertical-align: top;\n    }\n\n    .dataframe thead th {\n        text-align: right;\n    }\n</style>\n<table border=\"1\" class=\"dataframe\">\n  <thead>\n    <tr style=\"text-align: right;\">\n      <th></th>\n      <th>A</th>\n      <th>B</th>\n      <th>C</th>\n    </tr>\n  </thead>\n  <tbody>\n    <tr>\n      <th>0</th>\n      <td>5</td>\n      <td>10</td>\n      <td>9.0</td>\n    </tr>\n  </tbody>\n</table>\n</div>"
     },
     "metadata": {},
     "execution_count": 94
    }
   ],
   "source": [
    "df_copia.head()"
   ]
  },
  {
   "cell_type": "code",
   "execution_count": 96,
   "metadata": {},
   "outputs": [
    {
     "output_type": "execute_result",
     "data": {
      "text/plain": "3"
     },
     "metadata": {},
     "execution_count": 96
    }
   ],
   "source": [
    "sum([1,2])"
   ]
  },
  {
   "cell_type": "code",
   "execution_count": null,
   "metadata": {},
   "outputs": [],
   "source": [
    "A.sum()\n",
    "B.sum()\n",
    "C.sum()\n"
   ]
  }
 ],
 "metadata": {
  "language_info": {
   "codemirror_mode": {
    "name": "ipython",
    "version": 3
   },
   "file_extension": ".py",
   "mimetype": "text/x-python",
   "name": "python",
   "nbconvert_exporter": "python",
   "pygments_lexer": "ipython3",
   "version": "3.8.1-final"
  },
  "orig_nbformat": 2,
  "kernelspec": {
   "name": "python38164bitvenvvenvd7d66b7a3c414943af573b211fc62caf",
   "display_name": "Python 3.8.1 64-bit ('.venv': venv)"
  }
 },
 "nbformat": 4,
 "nbformat_minor": 2
}