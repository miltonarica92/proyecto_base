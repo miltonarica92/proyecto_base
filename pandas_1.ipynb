{
 "cells": [
  {
   "cell_type": "code",
   "execution_count": 1,
   "metadata": {},
   "outputs": [
    {
     "output_type": "execute_result",
     "data": {
      "text/plain": "'1.0.3'"
     },
     "metadata": {},
     "execution_count": 1
    }
   ],
   "source": [
    "import pandas as pd\n",
    "\n",
    "pd.__version__"
   ]
  },
  {
   "cell_type": "code",
   "execution_count": 2,
   "metadata": {},
   "outputs": [],
   "source": [
    "a = [1, 'a', None, True]"
   ]
  },
  {
   "cell_type": "code",
   "execution_count": 3,
   "metadata": {},
   "outputs": [
    {
     "output_type": "execute_result",
     "data": {
      "text/plain": "[1, 'a', None, True]"
     },
     "metadata": {},
     "execution_count": 3
    }
   ],
   "source": [
    "a"
   ]
  },
  {
   "cell_type": "code",
   "execution_count": 4,
   "metadata": {},
   "outputs": [
    {
     "output_type": "stream",
     "name": "stdout",
     "text": "1\nTrue\n"
    }
   ],
   "source": [
    "print(a[0])\n",
    "print(a[3])"
   ]
  },
  {
   "cell_type": "markdown",
   "metadata": {},
   "source": [
    "## Series"
   ]
  },
  {
   "cell_type": "code",
   "execution_count": 5,
   "metadata": {},
   "outputs": [],
   "source": [
    "s = pd.Series([3, -5, 7, 4], index=['a', 'b', 'c', 'd'])"
   ]
  },
  {
   "cell_type": "code",
   "execution_count": 6,
   "metadata": {},
   "outputs": [
    {
     "output_type": "execute_result",
     "data": {
      "text/plain": "a    3\nb   -5\nc    7\nd    4\ndtype: int64"
     },
     "metadata": {},
     "execution_count": 6
    }
   ],
   "source": [
    "s"
   ]
  },
  {
   "cell_type": "code",
   "execution_count": 7,
   "metadata": {},
   "outputs": [
    {
     "output_type": "stream",
     "name": "stdout",
     "text": "3\n7\n"
    },
    {
     "output_type": "execute_result",
     "data": {
      "text/plain": "-5"
     },
     "metadata": {},
     "execution_count": 7
    }
   ],
   "source": [
    "print(s['a'])\n",
    "print(s['c'])\n",
    "s[1]"
   ]
  },
  {
   "cell_type": "markdown",
   "metadata": {},
   "source": [
    "## DataFrame"
   ]
  },
  {
   "cell_type": "code",
   "execution_count": 8,
   "metadata": {},
   "outputs": [],
   "source": [
    "data = {'Country': ['Belgium', 'India', 'Brazil'],\n",
    "        'Capital': ['Brussels', 'New Delhi', 'Brasília'],\n",
    "        'Population': [11190846, 1303171035, 207847528]}"
   ]
  },
  {
   "cell_type": "code",
   "execution_count": 9,
   "metadata": {},
   "outputs": [
    {
     "output_type": "stream",
     "name": "stdout",
     "text": "['Belgium', 'India', 'Brazil']\n"
    },
    {
     "output_type": "execute_result",
     "data": {
      "text/plain": "[11190846, 1303171035, 207847528]"
     },
     "metadata": {},
     "execution_count": 9
    }
   ],
   "source": [
    "print(data['Country'])\n",
    "data['Population']"
   ]
  },
  {
   "cell_type": "code",
   "execution_count": 10,
   "metadata": {},
   "outputs": [
    {
     "output_type": "stream",
     "name": "stdout",
     "text": "Country    Capital  Population\n0  Belgium   Brussels    11190846\n1    India  New Delhi  1303171035\n2   Brazil   Brasília   207847528\n"
    },
    {
     "output_type": "execute_result",
     "data": {
      "text/plain": "   Country    Capital\n0  Belgium   Brussels\n1    India  New Delhi\n2   Brazil   Brasília",
      "text/html": "<div>\n<style scoped>\n    .dataframe tbody tr th:only-of-type {\n        vertical-align: middle;\n    }\n\n    .dataframe tbody tr th {\n        vertical-align: top;\n    }\n\n    .dataframe thead th {\n        text-align: right;\n    }\n</style>\n<table border=\"1\" class=\"dataframe\">\n  <thead>\n    <tr style=\"text-align: right;\">\n      <th></th>\n      <th>Country</th>\n      <th>Capital</th>\n    </tr>\n  </thead>\n  <tbody>\n    <tr>\n      <th>0</th>\n      <td>Belgium</td>\n      <td>Brussels</td>\n    </tr>\n    <tr>\n      <th>1</th>\n      <td>India</td>\n      <td>New Delhi</td>\n    </tr>\n    <tr>\n      <th>2</th>\n      <td>Brazil</td>\n      <td>Brasília</td>\n    </tr>\n  </tbody>\n</table>\n</div>"
     },
     "metadata": {},
     "execution_count": 10
    }
   ],
   "source": [
    "df = pd.DataFrame(data)\n",
    "print(df)\n",
    "pd.DataFrame(data, columns=['Country', 'Capital'])"
   ]
  },
  {
   "cell_type": "code",
   "execution_count": 11,
   "metadata": {},
   "outputs": [
    {
     "output_type": "execute_result",
     "data": {
      "text/plain": "  C1 C2     C3\n0  1  a   True\n1  2  c  False",
      "text/html": "<div>\n<style scoped>\n    .dataframe tbody tr th:only-of-type {\n        vertical-align: middle;\n    }\n\n    .dataframe tbody tr th {\n        vertical-align: top;\n    }\n\n    .dataframe thead th {\n        text-align: right;\n    }\n</style>\n<table border=\"1\" class=\"dataframe\">\n  <thead>\n    <tr style=\"text-align: right;\">\n      <th></th>\n      <th>C1</th>\n      <th>C2</th>\n      <th>C3</th>\n    </tr>\n  </thead>\n  <tbody>\n    <tr>\n      <th>0</th>\n      <td>1</td>\n      <td>a</td>\n      <td>True</td>\n    </tr>\n    <tr>\n      <th>1</th>\n      <td>2</td>\n      <td>c</td>\n      <td>False</td>\n    </tr>\n  </tbody>\n</table>\n</div>"
     },
     "metadata": {},
     "execution_count": 11
    }
   ],
   "source": [
    "import numpy as np\n",
    "data_dummy = pd.DataFrame(data=np.array([[1,'a',True], [2,'c',False]]), columns=['C1', 'C2', 'C3'])\n",
    "data_dummy"
   ]
  },
  {
   "cell_type": "markdown",
   "metadata": {},
   "source": [
    "## I/O"
   ]
  },
  {
   "cell_type": "code",
   "execution_count": 12,
   "metadata": {},
   "outputs": [
    {
     "output_type": "execute_result",
     "data": {
      "text/plain": "    ID  Age Gender  GenderGroup Glasses  GlassesGroup  Height  Wingspan  \\\n0    1   56      F            1       Y             1   62.00      61.0   \n1    2   26      F            1       Y             1   62.00      60.0   \n2    3   33      F            1       Y             1   66.00      64.0   \n3    4   39      F            1       N             0   64.00      63.0   \n4    5   27      M            2       N             0   73.00      75.0   \n5    6   24      M            2       N             0   75.00      71.0   \n6    7   28      M            2       N             0   75.00      76.0   \n7    8   22      F            1       N             0   65.00      62.0   \n8    9   29      M            2       Y             1   74.00      73.0   \n9   10   33      F            1       Y             1   63.00      60.0   \n10  11   30      M            2       Y             1   69.50      66.0   \n11  12   28      F            1       Y             1   62.75      58.0   \n12  13   25      F            1       Y             1   65.00      64.5   \n13  14   23      F            1       N             0   61.50      57.5   \n14  15   31      M            2       Y             1   73.00      74.0   \n15  16   26      M            2       Y             1   71.00      72.0   \n16  17   26      F            1       N             0   61.50      59.5   \n17  18   27      M            2       N             0   66.00      66.0   \n18  19   23      M            2       Y             1   70.00      69.0   \n19  20   24      F            1       Y             1   68.00      66.0   \n20  21   23      M            2       Y             1   69.00      67.0   \n21  22   29      M            2       N             0   71.00      70.0   \n22  23   25      M            2       N             0   70.00      68.0   \n23  24   26      M            2       N             0   69.00      71.0   \n24  25   23      F            1       Y             1   65.00      63.0   \n\n    CWDistance Complete  CompleteGroup  Score  \n0           79        Y              1      7  \n1           70        Y              1      8  \n2           85        Y              1      7  \n3           87        Y              1     10  \n4           72        N              0      4  \n5           81        N              0      3  \n6          107        Y              1     10  \n7           98        Y              1      9  \n8          106        N              0      5  \n9           65        Y              1      8  \n10          96        Y              1      6  \n11          79        Y              1     10  \n12          92        Y              1      6  \n13          66        Y              1      4  \n14          72        Y              1      9  \n15         115        Y              1      6  \n16          90        N              0     10  \n17          74        Y              1      5  \n18          64        Y              1      3  \n19          85        Y              1      8  \n20          66        N              0      2  \n21         101        Y              1      8  \n22          82        Y              1      4  \n23          63        Y              1      5  \n24          67        N              0      3  ",
      "text/html": "<div>\n<style scoped>\n    .dataframe tbody tr th:only-of-type {\n        vertical-align: middle;\n    }\n\n    .dataframe tbody tr th {\n        vertical-align: top;\n    }\n\n    .dataframe thead th {\n        text-align: right;\n    }\n</style>\n<table border=\"1\" class=\"dataframe\">\n  <thead>\n    <tr style=\"text-align: right;\">\n      <th></th>\n      <th>ID</th>\n      <th>Age</th>\n      <th>Gender</th>\n      <th>GenderGroup</th>\n      <th>Glasses</th>\n      <th>GlassesGroup</th>\n      <th>Height</th>\n      <th>Wingspan</th>\n      <th>CWDistance</th>\n      <th>Complete</th>\n      <th>CompleteGroup</th>\n      <th>Score</th>\n    </tr>\n  </thead>\n  <tbody>\n    <tr>\n      <th>0</th>\n      <td>1</td>\n      <td>56</td>\n      <td>F</td>\n      <td>1</td>\n      <td>Y</td>\n      <td>1</td>\n      <td>62.00</td>\n      <td>61.0</td>\n      <td>79</td>\n      <td>Y</td>\n      <td>1</td>\n      <td>7</td>\n    </tr>\n    <tr>\n      <th>1</th>\n      <td>2</td>\n      <td>26</td>\n      <td>F</td>\n      <td>1</td>\n      <td>Y</td>\n      <td>1</td>\n      <td>62.00</td>\n      <td>60.0</td>\n      <td>70</td>\n      <td>Y</td>\n      <td>1</td>\n      <td>8</td>\n    </tr>\n    <tr>\n      <th>2</th>\n      <td>3</td>\n      <td>33</td>\n      <td>F</td>\n      <td>1</td>\n      <td>Y</td>\n      <td>1</td>\n      <td>66.00</td>\n      <td>64.0</td>\n      <td>85</td>\n      <td>Y</td>\n      <td>1</td>\n      <td>7</td>\n    </tr>\n    <tr>\n      <th>3</th>\n      <td>4</td>\n      <td>39</td>\n      <td>F</td>\n      <td>1</td>\n      <td>N</td>\n      <td>0</td>\n      <td>64.00</td>\n      <td>63.0</td>\n      <td>87</td>\n      <td>Y</td>\n      <td>1</td>\n      <td>10</td>\n    </tr>\n    <tr>\n      <th>4</th>\n      <td>5</td>\n      <td>27</td>\n      <td>M</td>\n      <td>2</td>\n      <td>N</td>\n      <td>0</td>\n      <td>73.00</td>\n      <td>75.0</td>\n      <td>72</td>\n      <td>N</td>\n      <td>0</td>\n      <td>4</td>\n    </tr>\n    <tr>\n      <th>5</th>\n      <td>6</td>\n      <td>24</td>\n      <td>M</td>\n      <td>2</td>\n      <td>N</td>\n      <td>0</td>\n      <td>75.00</td>\n      <td>71.0</td>\n      <td>81</td>\n      <td>N</td>\n      <td>0</td>\n      <td>3</td>\n    </tr>\n    <tr>\n      <th>6</th>\n      <td>7</td>\n      <td>28</td>\n      <td>M</td>\n      <td>2</td>\n      <td>N</td>\n      <td>0</td>\n      <td>75.00</td>\n      <td>76.0</td>\n      <td>107</td>\n      <td>Y</td>\n      <td>1</td>\n      <td>10</td>\n    </tr>\n    <tr>\n      <th>7</th>\n      <td>8</td>\n      <td>22</td>\n      <td>F</td>\n      <td>1</td>\n      <td>N</td>\n      <td>0</td>\n      <td>65.00</td>\n      <td>62.0</td>\n      <td>98</td>\n      <td>Y</td>\n      <td>1</td>\n      <td>9</td>\n    </tr>\n    <tr>\n      <th>8</th>\n      <td>9</td>\n      <td>29</td>\n      <td>M</td>\n      <td>2</td>\n      <td>Y</td>\n      <td>1</td>\n      <td>74.00</td>\n      <td>73.0</td>\n      <td>106</td>\n      <td>N</td>\n      <td>0</td>\n      <td>5</td>\n    </tr>\n    <tr>\n      <th>9</th>\n      <td>10</td>\n      <td>33</td>\n      <td>F</td>\n      <td>1</td>\n      <td>Y</td>\n      <td>1</td>\n      <td>63.00</td>\n      <td>60.0</td>\n      <td>65</td>\n      <td>Y</td>\n      <td>1</td>\n      <td>8</td>\n    </tr>\n    <tr>\n      <th>10</th>\n      <td>11</td>\n      <td>30</td>\n      <td>M</td>\n      <td>2</td>\n      <td>Y</td>\n      <td>1</td>\n      <td>69.50</td>\n      <td>66.0</td>\n      <td>96</td>\n      <td>Y</td>\n      <td>1</td>\n      <td>6</td>\n    </tr>\n    <tr>\n      <th>11</th>\n      <td>12</td>\n      <td>28</td>\n      <td>F</td>\n      <td>1</td>\n      <td>Y</td>\n      <td>1</td>\n      <td>62.75</td>\n      <td>58.0</td>\n      <td>79</td>\n      <td>Y</td>\n      <td>1</td>\n      <td>10</td>\n    </tr>\n    <tr>\n      <th>12</th>\n      <td>13</td>\n      <td>25</td>\n      <td>F</td>\n      <td>1</td>\n      <td>Y</td>\n      <td>1</td>\n      <td>65.00</td>\n      <td>64.5</td>\n      <td>92</td>\n      <td>Y</td>\n      <td>1</td>\n      <td>6</td>\n    </tr>\n    <tr>\n      <th>13</th>\n      <td>14</td>\n      <td>23</td>\n      <td>F</td>\n      <td>1</td>\n      <td>N</td>\n      <td>0</td>\n      <td>61.50</td>\n      <td>57.5</td>\n      <td>66</td>\n      <td>Y</td>\n      <td>1</td>\n      <td>4</td>\n    </tr>\n    <tr>\n      <th>14</th>\n      <td>15</td>\n      <td>31</td>\n      <td>M</td>\n      <td>2</td>\n      <td>Y</td>\n      <td>1</td>\n      <td>73.00</td>\n      <td>74.0</td>\n      <td>72</td>\n      <td>Y</td>\n      <td>1</td>\n      <td>9</td>\n    </tr>\n    <tr>\n      <th>15</th>\n      <td>16</td>\n      <td>26</td>\n      <td>M</td>\n      <td>2</td>\n      <td>Y</td>\n      <td>1</td>\n      <td>71.00</td>\n      <td>72.0</td>\n      <td>115</td>\n      <td>Y</td>\n      <td>1</td>\n      <td>6</td>\n    </tr>\n    <tr>\n      <th>16</th>\n      <td>17</td>\n      <td>26</td>\n      <td>F</td>\n      <td>1</td>\n      <td>N</td>\n      <td>0</td>\n      <td>61.50</td>\n      <td>59.5</td>\n      <td>90</td>\n      <td>N</td>\n      <td>0</td>\n      <td>10</td>\n    </tr>\n    <tr>\n      <th>17</th>\n      <td>18</td>\n      <td>27</td>\n      <td>M</td>\n      <td>2</td>\n      <td>N</td>\n      <td>0</td>\n      <td>66.00</td>\n      <td>66.0</td>\n      <td>74</td>\n      <td>Y</td>\n      <td>1</td>\n      <td>5</td>\n    </tr>\n    <tr>\n      <th>18</th>\n      <td>19</td>\n      <td>23</td>\n      <td>M</td>\n      <td>2</td>\n      <td>Y</td>\n      <td>1</td>\n      <td>70.00</td>\n      <td>69.0</td>\n      <td>64</td>\n      <td>Y</td>\n      <td>1</td>\n      <td>3</td>\n    </tr>\n    <tr>\n      <th>19</th>\n      <td>20</td>\n      <td>24</td>\n      <td>F</td>\n      <td>1</td>\n      <td>Y</td>\n      <td>1</td>\n      <td>68.00</td>\n      <td>66.0</td>\n      <td>85</td>\n      <td>Y</td>\n      <td>1</td>\n      <td>8</td>\n    </tr>\n    <tr>\n      <th>20</th>\n      <td>21</td>\n      <td>23</td>\n      <td>M</td>\n      <td>2</td>\n      <td>Y</td>\n      <td>1</td>\n      <td>69.00</td>\n      <td>67.0</td>\n      <td>66</td>\n      <td>N</td>\n      <td>0</td>\n      <td>2</td>\n    </tr>\n    <tr>\n      <th>21</th>\n      <td>22</td>\n      <td>29</td>\n      <td>M</td>\n      <td>2</td>\n      <td>N</td>\n      <td>0</td>\n      <td>71.00</td>\n      <td>70.0</td>\n      <td>101</td>\n      <td>Y</td>\n      <td>1</td>\n      <td>8</td>\n    </tr>\n    <tr>\n      <th>22</th>\n      <td>23</td>\n      <td>25</td>\n      <td>M</td>\n      <td>2</td>\n      <td>N</td>\n      <td>0</td>\n      <td>70.00</td>\n      <td>68.0</td>\n      <td>82</td>\n      <td>Y</td>\n      <td>1</td>\n      <td>4</td>\n    </tr>\n    <tr>\n      <th>23</th>\n      <td>24</td>\n      <td>26</td>\n      <td>M</td>\n      <td>2</td>\n      <td>N</td>\n      <td>0</td>\n      <td>69.00</td>\n      <td>71.0</td>\n      <td>63</td>\n      <td>Y</td>\n      <td>1</td>\n      <td>5</td>\n    </tr>\n    <tr>\n      <th>24</th>\n      <td>25</td>\n      <td>23</td>\n      <td>F</td>\n      <td>1</td>\n      <td>Y</td>\n      <td>1</td>\n      <td>65.00</td>\n      <td>63.0</td>\n      <td>67</td>\n      <td>N</td>\n      <td>0</td>\n      <td>3</td>\n    </tr>\n  </tbody>\n</table>\n</div>"
     },
     "metadata": {},
     "execution_count": 12
    }
   ],
   "source": [
    "dataset = pd.read_csv('./jupyter/Cartwheeldata.csv')\n",
    "dataset"
   ]
  },
  {
   "cell_type": "code",
   "execution_count": 13,
   "metadata": {},
   "outputs": [],
   "source": [
    "data_dummy.to_csv('dummy.csv', index=None)"
   ]
  },
  {
   "cell_type": "markdown",
   "metadata": {},
   "source": [
    "## INSPECT, SEARCH AND FILTER"
   ]
  },
  {
   "cell_type": "code",
   "execution_count": 14,
   "metadata": {},
   "outputs": [
    {
     "output_type": "stream",
     "name": "stdout",
     "text": "(25, 12)\n25\n12\n"
    }
   ],
   "source": [
    "print(dataset.shape)\n",
    "print(dataset.shape[0])\n",
    "print(dataset.shape[1])"
   ]
  },
  {
   "cell_type": "code",
   "execution_count": 15,
   "metadata": {},
   "outputs": [
    {
     "output_type": "execute_result",
     "data": {
      "text/plain": "Index(['ID', 'Age', 'Gender', 'GenderGroup', 'Glasses', 'GlassesGroup',\n       'Height', 'Wingspan', 'CWDistance', 'Complete', 'CompleteGroup',\n       'Score'],\n      dtype='object')"
     },
     "metadata": {},
     "execution_count": 15
    }
   ],
   "source": [
    "dataset.columns"
   ]
  },
  {
   "cell_type": "code",
   "execution_count": 16,
   "metadata": {},
   "outputs": [
    {
     "output_type": "execute_result",
     "data": {
      "text/plain": "ID                 int64\nAge                int64\nGender            object\nGenderGroup        int64\nGlasses           object\nGlassesGroup       int64\nHeight           float64\nWingspan         float64\nCWDistance         int64\nComplete          object\nCompleteGroup      int64\nScore              int64\ndtype: object"
     },
     "metadata": {},
     "execution_count": 16
    }
   ],
   "source": [
    "dataset.dtypes"
   ]
  },
  {
   "cell_type": "code",
   "execution_count": 17,
   "metadata": {},
   "outputs": [
    {
     "output_type": "execute_result",
     "data": {
      "text/plain": "   ID  Age Gender  GenderGroup Glasses  GlassesGroup  Height  Wingspan  \\\n0   1   56      F            1       Y             1    62.0      61.0   \n1   2   26      F            1       Y             1    62.0      60.0   \n2   3   33      F            1       Y             1    66.0      64.0   \n3   4   39      F            1       N             0    64.0      63.0   \n4   5   27      M            2       N             0    73.0      75.0   \n\n   CWDistance Complete  CompleteGroup  Score  \n0          79        Y              1      7  \n1          70        Y              1      8  \n2          85        Y              1      7  \n3          87        Y              1     10  \n4          72        N              0      4  ",
      "text/html": "<div>\n<style scoped>\n    .dataframe tbody tr th:only-of-type {\n        vertical-align: middle;\n    }\n\n    .dataframe tbody tr th {\n        vertical-align: top;\n    }\n\n    .dataframe thead th {\n        text-align: right;\n    }\n</style>\n<table border=\"1\" class=\"dataframe\">\n  <thead>\n    <tr style=\"text-align: right;\">\n      <th></th>\n      <th>ID</th>\n      <th>Age</th>\n      <th>Gender</th>\n      <th>GenderGroup</th>\n      <th>Glasses</th>\n      <th>GlassesGroup</th>\n      <th>Height</th>\n      <th>Wingspan</th>\n      <th>CWDistance</th>\n      <th>Complete</th>\n      <th>CompleteGroup</th>\n      <th>Score</th>\n    </tr>\n  </thead>\n  <tbody>\n    <tr>\n      <th>0</th>\n      <td>1</td>\n      <td>56</td>\n      <td>F</td>\n      <td>1</td>\n      <td>Y</td>\n      <td>1</td>\n      <td>62.0</td>\n      <td>61.0</td>\n      <td>79</td>\n      <td>Y</td>\n      <td>1</td>\n      <td>7</td>\n    </tr>\n    <tr>\n      <th>1</th>\n      <td>2</td>\n      <td>26</td>\n      <td>F</td>\n      <td>1</td>\n      <td>Y</td>\n      <td>1</td>\n      <td>62.0</td>\n      <td>60.0</td>\n      <td>70</td>\n      <td>Y</td>\n      <td>1</td>\n      <td>8</td>\n    </tr>\n    <tr>\n      <th>2</th>\n      <td>3</td>\n      <td>33</td>\n      <td>F</td>\n      <td>1</td>\n      <td>Y</td>\n      <td>1</td>\n      <td>66.0</td>\n      <td>64.0</td>\n      <td>85</td>\n      <td>Y</td>\n      <td>1</td>\n      <td>7</td>\n    </tr>\n    <tr>\n      <th>3</th>\n      <td>4</td>\n      <td>39</td>\n      <td>F</td>\n      <td>1</td>\n      <td>N</td>\n      <td>0</td>\n      <td>64.0</td>\n      <td>63.0</td>\n      <td>87</td>\n      <td>Y</td>\n      <td>1</td>\n      <td>10</td>\n    </tr>\n    <tr>\n      <th>4</th>\n      <td>5</td>\n      <td>27</td>\n      <td>M</td>\n      <td>2</td>\n      <td>N</td>\n      <td>0</td>\n      <td>73.0</td>\n      <td>75.0</td>\n      <td>72</td>\n      <td>N</td>\n      <td>0</td>\n      <td>4</td>\n    </tr>\n  </tbody>\n</table>\n</div>"
     },
     "metadata": {},
     "execution_count": 17
    }
   ],
   "source": [
    "dataset.head()"
   ]
  },
  {
   "cell_type": "code",
   "execution_count": 18,
   "metadata": {},
   "outputs": [
    {
     "output_type": "execute_result",
     "data": {
      "text/plain": "    ID  Age Gender  GenderGroup Glasses  GlassesGroup  Height  Wingspan  \\\n20  21   23      M            2       Y             1    69.0      67.0   \n21  22   29      M            2       N             0    71.0      70.0   \n22  23   25      M            2       N             0    70.0      68.0   \n23  24   26      M            2       N             0    69.0      71.0   \n24  25   23      F            1       Y             1    65.0      63.0   \n\n    CWDistance Complete  CompleteGroup  Score  \n20          66        N              0      2  \n21         101        Y              1      8  \n22          82        Y              1      4  \n23          63        Y              1      5  \n24          67        N              0      3  ",
      "text/html": "<div>\n<style scoped>\n    .dataframe tbody tr th:only-of-type {\n        vertical-align: middle;\n    }\n\n    .dataframe tbody tr th {\n        vertical-align: top;\n    }\n\n    .dataframe thead th {\n        text-align: right;\n    }\n</style>\n<table border=\"1\" class=\"dataframe\">\n  <thead>\n    <tr style=\"text-align: right;\">\n      <th></th>\n      <th>ID</th>\n      <th>Age</th>\n      <th>Gender</th>\n      <th>GenderGroup</th>\n      <th>Glasses</th>\n      <th>GlassesGroup</th>\n      <th>Height</th>\n      <th>Wingspan</th>\n      <th>CWDistance</th>\n      <th>Complete</th>\n      <th>CompleteGroup</th>\n      <th>Score</th>\n    </tr>\n  </thead>\n  <tbody>\n    <tr>\n      <th>20</th>\n      <td>21</td>\n      <td>23</td>\n      <td>M</td>\n      <td>2</td>\n      <td>Y</td>\n      <td>1</td>\n      <td>69.0</td>\n      <td>67.0</td>\n      <td>66</td>\n      <td>N</td>\n      <td>0</td>\n      <td>2</td>\n    </tr>\n    <tr>\n      <th>21</th>\n      <td>22</td>\n      <td>29</td>\n      <td>M</td>\n      <td>2</td>\n      <td>N</td>\n      <td>0</td>\n      <td>71.0</td>\n      <td>70.0</td>\n      <td>101</td>\n      <td>Y</td>\n      <td>1</td>\n      <td>8</td>\n    </tr>\n    <tr>\n      <th>22</th>\n      <td>23</td>\n      <td>25</td>\n      <td>M</td>\n      <td>2</td>\n      <td>N</td>\n      <td>0</td>\n      <td>70.0</td>\n      <td>68.0</td>\n      <td>82</td>\n      <td>Y</td>\n      <td>1</td>\n      <td>4</td>\n    </tr>\n    <tr>\n      <th>23</th>\n      <td>24</td>\n      <td>26</td>\n      <td>M</td>\n      <td>2</td>\n      <td>N</td>\n      <td>0</td>\n      <td>69.0</td>\n      <td>71.0</td>\n      <td>63</td>\n      <td>Y</td>\n      <td>1</td>\n      <td>5</td>\n    </tr>\n    <tr>\n      <th>24</th>\n      <td>25</td>\n      <td>23</td>\n      <td>F</td>\n      <td>1</td>\n      <td>Y</td>\n      <td>1</td>\n      <td>65.0</td>\n      <td>63.0</td>\n      <td>67</td>\n      <td>N</td>\n      <td>0</td>\n      <td>3</td>\n    </tr>\n  </tbody>\n</table>\n</div>"
     },
     "metadata": {},
     "execution_count": 18
    }
   ],
   "source": [
    "dataset.tail()"
   ]
  },
  {
   "cell_type": "code",
   "execution_count": 19,
   "metadata": {},
   "outputs": [
    {
     "output_type": "execute_result",
     "data": {
      "text/plain": "0     56\n1     26\n2     33\n3     39\n4     27\n5     24\n6     28\n7     22\n8     29\n9     33\n10    30\n11    28\n12    25\n13    23\n14    31\n15    26\n16    26\n17    27\n18    23\n19    24\n20    23\n21    29\n22    25\n23    26\n24    23\nName: Age, dtype: int64"
     },
     "metadata": {},
     "execution_count": 19
    }
   ],
   "source": [
    "dataset['Age'] # pd.Serie"
   ]
  },
  {
   "cell_type": "code",
   "execution_count": 20,
   "metadata": {},
   "outputs": [
    {
     "output_type": "execute_result",
     "data": {
      "text/plain": "    Age\n0    56\n1    26\n2    33\n3    39\n4    27\n5    24\n6    28\n7    22\n8    29\n9    33\n10   30\n11   28\n12   25\n13   23\n14   31\n15   26\n16   26\n17   27\n18   23\n19   24\n20   23\n21   29\n22   25\n23   26\n24   23",
      "text/html": "<div>\n<style scoped>\n    .dataframe tbody tr th:only-of-type {\n        vertical-align: middle;\n    }\n\n    .dataframe tbody tr th {\n        vertical-align: top;\n    }\n\n    .dataframe thead th {\n        text-align: right;\n    }\n</style>\n<table border=\"1\" class=\"dataframe\">\n  <thead>\n    <tr style=\"text-align: right;\">\n      <th></th>\n      <th>Age</th>\n    </tr>\n  </thead>\n  <tbody>\n    <tr>\n      <th>0</th>\n      <td>56</td>\n    </tr>\n    <tr>\n      <th>1</th>\n      <td>26</td>\n    </tr>\n    <tr>\n      <th>2</th>\n      <td>33</td>\n    </tr>\n    <tr>\n      <th>3</th>\n      <td>39</td>\n    </tr>\n    <tr>\n      <th>4</th>\n      <td>27</td>\n    </tr>\n    <tr>\n      <th>5</th>\n      <td>24</td>\n    </tr>\n    <tr>\n      <th>6</th>\n      <td>28</td>\n    </tr>\n    <tr>\n      <th>7</th>\n      <td>22</td>\n    </tr>\n    <tr>\n      <th>8</th>\n      <td>29</td>\n    </tr>\n    <tr>\n      <th>9</th>\n      <td>33</td>\n    </tr>\n    <tr>\n      <th>10</th>\n      <td>30</td>\n    </tr>\n    <tr>\n      <th>11</th>\n      <td>28</td>\n    </tr>\n    <tr>\n      <th>12</th>\n      <td>25</td>\n    </tr>\n    <tr>\n      <th>13</th>\n      <td>23</td>\n    </tr>\n    <tr>\n      <th>14</th>\n      <td>31</td>\n    </tr>\n    <tr>\n      <th>15</th>\n      <td>26</td>\n    </tr>\n    <tr>\n      <th>16</th>\n      <td>26</td>\n    </tr>\n    <tr>\n      <th>17</th>\n      <td>27</td>\n    </tr>\n    <tr>\n      <th>18</th>\n      <td>23</td>\n    </tr>\n    <tr>\n      <th>19</th>\n      <td>24</td>\n    </tr>\n    <tr>\n      <th>20</th>\n      <td>23</td>\n    </tr>\n    <tr>\n      <th>21</th>\n      <td>29</td>\n    </tr>\n    <tr>\n      <th>22</th>\n      <td>25</td>\n    </tr>\n    <tr>\n      <th>23</th>\n      <td>26</td>\n    </tr>\n    <tr>\n      <th>24</th>\n      <td>23</td>\n    </tr>\n  </tbody>\n</table>\n</div>"
     },
     "metadata": {},
     "execution_count": 20
    }
   ],
   "source": [
    "dataset[['Age']]  # Dataframe"
   ]
  },
  {
   "cell_type": "code",
   "execution_count": 21,
   "metadata": {},
   "outputs": [
    {
     "output_type": "execute_result",
     "data": {
      "text/plain": "    ID  Age Gender  GenderGroup Glasses  GlassesGroup  Height  Wingspan  \\\n4    5   27      M            2       N             0    73.0      75.0   \n5    6   24      M            2       N             0    75.0      71.0   \n6    7   28      M            2       N             0    75.0      76.0   \n8    9   29      M            2       Y             1    74.0      73.0   \n10  11   30      M            2       Y             1    69.5      66.0   \n14  15   31      M            2       Y             1    73.0      74.0   \n15  16   26      M            2       Y             1    71.0      72.0   \n17  18   27      M            2       N             0    66.0      66.0   \n18  19   23      M            2       Y             1    70.0      69.0   \n20  21   23      M            2       Y             1    69.0      67.0   \n21  22   29      M            2       N             0    71.0      70.0   \n22  23   25      M            2       N             0    70.0      68.0   \n23  24   26      M            2       N             0    69.0      71.0   \n\n    CWDistance Complete  CompleteGroup  Score  \n4           72        N              0      4  \n5           81        N              0      3  \n6          107        Y              1     10  \n8          106        N              0      5  \n10          96        Y              1      6  \n14          72        Y              1      9  \n15         115        Y              1      6  \n17          74        Y              1      5  \n18          64        Y              1      3  \n20          66        N              0      2  \n21         101        Y              1      8  \n22          82        Y              1      4  \n23          63        Y              1      5  ",
      "text/html": "<div>\n<style scoped>\n    .dataframe tbody tr th:only-of-type {\n        vertical-align: middle;\n    }\n\n    .dataframe tbody tr th {\n        vertical-align: top;\n    }\n\n    .dataframe thead th {\n        text-align: right;\n    }\n</style>\n<table border=\"1\" class=\"dataframe\">\n  <thead>\n    <tr style=\"text-align: right;\">\n      <th></th>\n      <th>ID</th>\n      <th>Age</th>\n      <th>Gender</th>\n      <th>GenderGroup</th>\n      <th>Glasses</th>\n      <th>GlassesGroup</th>\n      <th>Height</th>\n      <th>Wingspan</th>\n      <th>CWDistance</th>\n      <th>Complete</th>\n      <th>CompleteGroup</th>\n      <th>Score</th>\n    </tr>\n  </thead>\n  <tbody>\n    <tr>\n      <th>4</th>\n      <td>5</td>\n      <td>27</td>\n      <td>M</td>\n      <td>2</td>\n      <td>N</td>\n      <td>0</td>\n      <td>73.0</td>\n      <td>75.0</td>\n      <td>72</td>\n      <td>N</td>\n      <td>0</td>\n      <td>4</td>\n    </tr>\n    <tr>\n      <th>5</th>\n      <td>6</td>\n      <td>24</td>\n      <td>M</td>\n      <td>2</td>\n      <td>N</td>\n      <td>0</td>\n      <td>75.0</td>\n      <td>71.0</td>\n      <td>81</td>\n      <td>N</td>\n      <td>0</td>\n      <td>3</td>\n    </tr>\n    <tr>\n      <th>6</th>\n      <td>7</td>\n      <td>28</td>\n      <td>M</td>\n      <td>2</td>\n      <td>N</td>\n      <td>0</td>\n      <td>75.0</td>\n      <td>76.0</td>\n      <td>107</td>\n      <td>Y</td>\n      <td>1</td>\n      <td>10</td>\n    </tr>\n    <tr>\n      <th>8</th>\n      <td>9</td>\n      <td>29</td>\n      <td>M</td>\n      <td>2</td>\n      <td>Y</td>\n      <td>1</td>\n      <td>74.0</td>\n      <td>73.0</td>\n      <td>106</td>\n      <td>N</td>\n      <td>0</td>\n      <td>5</td>\n    </tr>\n    <tr>\n      <th>10</th>\n      <td>11</td>\n      <td>30</td>\n      <td>M</td>\n      <td>2</td>\n      <td>Y</td>\n      <td>1</td>\n      <td>69.5</td>\n      <td>66.0</td>\n      <td>96</td>\n      <td>Y</td>\n      <td>1</td>\n      <td>6</td>\n    </tr>\n    <tr>\n      <th>14</th>\n      <td>15</td>\n      <td>31</td>\n      <td>M</td>\n      <td>2</td>\n      <td>Y</td>\n      <td>1</td>\n      <td>73.0</td>\n      <td>74.0</td>\n      <td>72</td>\n      <td>Y</td>\n      <td>1</td>\n      <td>9</td>\n    </tr>\n    <tr>\n      <th>15</th>\n      <td>16</td>\n      <td>26</td>\n      <td>M</td>\n      <td>2</td>\n      <td>Y</td>\n      <td>1</td>\n      <td>71.0</td>\n      <td>72.0</td>\n      <td>115</td>\n      <td>Y</td>\n      <td>1</td>\n      <td>6</td>\n    </tr>\n    <tr>\n      <th>17</th>\n      <td>18</td>\n      <td>27</td>\n      <td>M</td>\n      <td>2</td>\n      <td>N</td>\n      <td>0</td>\n      <td>66.0</td>\n      <td>66.0</td>\n      <td>74</td>\n      <td>Y</td>\n      <td>1</td>\n      <td>5</td>\n    </tr>\n    <tr>\n      <th>18</th>\n      <td>19</td>\n      <td>23</td>\n      <td>M</td>\n      <td>2</td>\n      <td>Y</td>\n      <td>1</td>\n      <td>70.0</td>\n      <td>69.0</td>\n      <td>64</td>\n      <td>Y</td>\n      <td>1</td>\n      <td>3</td>\n    </tr>\n    <tr>\n      <th>20</th>\n      <td>21</td>\n      <td>23</td>\n      <td>M</td>\n      <td>2</td>\n      <td>Y</td>\n      <td>1</td>\n      <td>69.0</td>\n      <td>67.0</td>\n      <td>66</td>\n      <td>N</td>\n      <td>0</td>\n      <td>2</td>\n    </tr>\n    <tr>\n      <th>21</th>\n      <td>22</td>\n      <td>29</td>\n      <td>M</td>\n      <td>2</td>\n      <td>N</td>\n      <td>0</td>\n      <td>71.0</td>\n      <td>70.0</td>\n      <td>101</td>\n      <td>Y</td>\n      <td>1</td>\n      <td>8</td>\n    </tr>\n    <tr>\n      <th>22</th>\n      <td>23</td>\n      <td>25</td>\n      <td>M</td>\n      <td>2</td>\n      <td>N</td>\n      <td>0</td>\n      <td>70.0</td>\n      <td>68.0</td>\n      <td>82</td>\n      <td>Y</td>\n      <td>1</td>\n      <td>4</td>\n    </tr>\n    <tr>\n      <th>23</th>\n      <td>24</td>\n      <td>26</td>\n      <td>M</td>\n      <td>2</td>\n      <td>N</td>\n      <td>0</td>\n      <td>69.0</td>\n      <td>71.0</td>\n      <td>63</td>\n      <td>Y</td>\n      <td>1</td>\n      <td>5</td>\n    </tr>\n  </tbody>\n</table>\n</div>"
     },
     "metadata": {},
     "execution_count": 21
    }
   ],
   "source": [
    "# dataframe(condicion) = ...\n",
    "dataset[dataset['Gender']=='M']"
   ]
  },
  {
   "cell_type": "code",
   "execution_count": 22,
   "metadata": {},
   "outputs": [
    {
     "output_type": "execute_result",
     "data": {
      "text/plain": "   ID  Age Gender  GenderGroup Glasses  GlassesGroup  Height  Wingspan  \\\n4   5   27      M            2       N             0    73.0      75.0   \n\n   CWDistance Complete  CompleteGroup  Score  \n4          72        N              0      4  ",
      "text/html": "<div>\n<style scoped>\n    .dataframe tbody tr th:only-of-type {\n        vertical-align: middle;\n    }\n\n    .dataframe tbody tr th {\n        vertical-align: top;\n    }\n\n    .dataframe thead th {\n        text-align: right;\n    }\n</style>\n<table border=\"1\" class=\"dataframe\">\n  <thead>\n    <tr style=\"text-align: right;\">\n      <th></th>\n      <th>ID</th>\n      <th>Age</th>\n      <th>Gender</th>\n      <th>GenderGroup</th>\n      <th>Glasses</th>\n      <th>GlassesGroup</th>\n      <th>Height</th>\n      <th>Wingspan</th>\n      <th>CWDistance</th>\n      <th>Complete</th>\n      <th>CompleteGroup</th>\n      <th>Score</th>\n    </tr>\n  </thead>\n  <tbody>\n    <tr>\n      <th>4</th>\n      <td>5</td>\n      <td>27</td>\n      <td>M</td>\n      <td>2</td>\n      <td>N</td>\n      <td>0</td>\n      <td>73.0</td>\n      <td>75.0</td>\n      <td>72</td>\n      <td>N</td>\n      <td>0</td>\n      <td>4</td>\n    </tr>\n  </tbody>\n</table>\n</div>"
     },
     "metadata": {},
     "execution_count": 22
    }
   ],
   "source": [
    "dataset[dataset['ID']==5]"
   ]
  },
  {
   "cell_type": "markdown",
   "metadata": {},
   "source": [
    "## loc / iloc"
   ]
  },
  {
   "cell_type": "code",
   "execution_count": 23,
   "metadata": {},
   "outputs": [
    {
     "output_type": "execute_result",
     "data": {
      "text/plain": "   Height  CWDistance\n0    62.0          79\n2    66.0          85\n3    64.0          87\n9    63.0          65",
      "text/html": "<div>\n<style scoped>\n    .dataframe tbody tr th:only-of-type {\n        vertical-align: middle;\n    }\n\n    .dataframe tbody tr th {\n        vertical-align: top;\n    }\n\n    .dataframe thead th {\n        text-align: right;\n    }\n</style>\n<table border=\"1\" class=\"dataframe\">\n  <thead>\n    <tr style=\"text-align: right;\">\n      <th></th>\n      <th>Height</th>\n      <th>CWDistance</th>\n    </tr>\n  </thead>\n  <tbody>\n    <tr>\n      <th>0</th>\n      <td>62.0</td>\n      <td>79</td>\n    </tr>\n    <tr>\n      <th>2</th>\n      <td>66.0</td>\n      <td>85</td>\n    </tr>\n    <tr>\n      <th>3</th>\n      <td>64.0</td>\n      <td>87</td>\n    </tr>\n    <tr>\n      <th>9</th>\n      <td>63.0</td>\n      <td>65</td>\n    </tr>\n  </tbody>\n</table>\n</div>"
     },
     "metadata": {},
     "execution_count": 23
    }
   ],
   "source": [
    "# dataframe.loc[filtro_filas, filtro_columnas]\n",
    "# OPERADORES CONDICIONES DENTRO DE DATAFRAME: &  |  ~\n",
    "# Filtrar para: Genero=MUJERES / Edad>30 / Columnas: Height & CWDistance \n",
    "dataset.loc[(dataset['Gender']=='F') & \n",
    "            (dataset['Age']>30), ['Height', 'CWDistance']]# = 100.0"
   ]
  },
  {
   "cell_type": "code",
   "execution_count": 24,
   "metadata": {},
   "outputs": [
    {
     "output_type": "execute_result",
     "data": {
      "text/plain": "   ID  Age Gender  GenderGroup Glasses  GlassesGroup  Height  Wingspan  \\\n0   1   56      F            1       Y             1    62.0      61.0   \n2   3   33      F            1       Y             1    66.0      64.0   \n3   4   39      F            1       N             0    64.0      63.0   \n9  10   33      F            1       Y             1    63.0      60.0   \n\n   CWDistance Complete  CompleteGroup  Score  \n0          79        Y              1      7  \n2          85        Y              1      7  \n3          87        Y              1     10  \n9          65        Y              1      8  ",
      "text/html": "<div>\n<style scoped>\n    .dataframe tbody tr th:only-of-type {\n        vertical-align: middle;\n    }\n\n    .dataframe tbody tr th {\n        vertical-align: top;\n    }\n\n    .dataframe thead th {\n        text-align: right;\n    }\n</style>\n<table border=\"1\" class=\"dataframe\">\n  <thead>\n    <tr style=\"text-align: right;\">\n      <th></th>\n      <th>ID</th>\n      <th>Age</th>\n      <th>Gender</th>\n      <th>GenderGroup</th>\n      <th>Glasses</th>\n      <th>GlassesGroup</th>\n      <th>Height</th>\n      <th>Wingspan</th>\n      <th>CWDistance</th>\n      <th>Complete</th>\n      <th>CompleteGroup</th>\n      <th>Score</th>\n    </tr>\n  </thead>\n  <tbody>\n    <tr>\n      <th>0</th>\n      <td>1</td>\n      <td>56</td>\n      <td>F</td>\n      <td>1</td>\n      <td>Y</td>\n      <td>1</td>\n      <td>62.0</td>\n      <td>61.0</td>\n      <td>79</td>\n      <td>Y</td>\n      <td>1</td>\n      <td>7</td>\n    </tr>\n    <tr>\n      <th>2</th>\n      <td>3</td>\n      <td>33</td>\n      <td>F</td>\n      <td>1</td>\n      <td>Y</td>\n      <td>1</td>\n      <td>66.0</td>\n      <td>64.0</td>\n      <td>85</td>\n      <td>Y</td>\n      <td>1</td>\n      <td>7</td>\n    </tr>\n    <tr>\n      <th>3</th>\n      <td>4</td>\n      <td>39</td>\n      <td>F</td>\n      <td>1</td>\n      <td>N</td>\n      <td>0</td>\n      <td>64.0</td>\n      <td>63.0</td>\n      <td>87</td>\n      <td>Y</td>\n      <td>1</td>\n      <td>10</td>\n    </tr>\n    <tr>\n      <th>9</th>\n      <td>10</td>\n      <td>33</td>\n      <td>F</td>\n      <td>1</td>\n      <td>Y</td>\n      <td>1</td>\n      <td>63.0</td>\n      <td>60.0</td>\n      <td>65</td>\n      <td>Y</td>\n      <td>1</td>\n      <td>8</td>\n    </tr>\n  </tbody>\n</table>\n</div>"
     },
     "metadata": {},
     "execution_count": 24
    }
   ],
   "source": [
    "dataset.loc[(dataset['Gender']=='F') & \n",
    "            (dataset['Age']>30), :]"
   ]
  },
  {
   "cell_type": "code",
   "execution_count": 25,
   "metadata": {},
   "outputs": [
    {
     "output_type": "execute_result",
     "data": {
      "text/plain": "    Height  CWDistance\n0    62.00          79\n1    62.00          70\n2    66.00          85\n3    64.00          87\n4    73.00          72\n5    75.00          81\n6    75.00         107\n7    65.00          98\n8    74.00         106\n9    63.00          65\n10   69.50          96\n11   62.75          79\n12   65.00          92\n13   61.50          66\n14   73.00          72\n15   71.00         115\n16   61.50          90\n17   66.00          74\n18   70.00          64\n19   68.00          85\n20   69.00          66\n21   71.00         101\n22   70.00          82\n23   69.00          63\n24   65.00          67",
      "text/html": "<div>\n<style scoped>\n    .dataframe tbody tr th:only-of-type {\n        vertical-align: middle;\n    }\n\n    .dataframe tbody tr th {\n        vertical-align: top;\n    }\n\n    .dataframe thead th {\n        text-align: right;\n    }\n</style>\n<table border=\"1\" class=\"dataframe\">\n  <thead>\n    <tr style=\"text-align: right;\">\n      <th></th>\n      <th>Height</th>\n      <th>CWDistance</th>\n    </tr>\n  </thead>\n  <tbody>\n    <tr>\n      <th>0</th>\n      <td>62.00</td>\n      <td>79</td>\n    </tr>\n    <tr>\n      <th>1</th>\n      <td>62.00</td>\n      <td>70</td>\n    </tr>\n    <tr>\n      <th>2</th>\n      <td>66.00</td>\n      <td>85</td>\n    </tr>\n    <tr>\n      <th>3</th>\n      <td>64.00</td>\n      <td>87</td>\n    </tr>\n    <tr>\n      <th>4</th>\n      <td>73.00</td>\n      <td>72</td>\n    </tr>\n    <tr>\n      <th>5</th>\n      <td>75.00</td>\n      <td>81</td>\n    </tr>\n    <tr>\n      <th>6</th>\n      <td>75.00</td>\n      <td>107</td>\n    </tr>\n    <tr>\n      <th>7</th>\n      <td>65.00</td>\n      <td>98</td>\n    </tr>\n    <tr>\n      <th>8</th>\n      <td>74.00</td>\n      <td>106</td>\n    </tr>\n    <tr>\n      <th>9</th>\n      <td>63.00</td>\n      <td>65</td>\n    </tr>\n    <tr>\n      <th>10</th>\n      <td>69.50</td>\n      <td>96</td>\n    </tr>\n    <tr>\n      <th>11</th>\n      <td>62.75</td>\n      <td>79</td>\n    </tr>\n    <tr>\n      <th>12</th>\n      <td>65.00</td>\n      <td>92</td>\n    </tr>\n    <tr>\n      <th>13</th>\n      <td>61.50</td>\n      <td>66</td>\n    </tr>\n    <tr>\n      <th>14</th>\n      <td>73.00</td>\n      <td>72</td>\n    </tr>\n    <tr>\n      <th>15</th>\n      <td>71.00</td>\n      <td>115</td>\n    </tr>\n    <tr>\n      <th>16</th>\n      <td>61.50</td>\n      <td>90</td>\n    </tr>\n    <tr>\n      <th>17</th>\n      <td>66.00</td>\n      <td>74</td>\n    </tr>\n    <tr>\n      <th>18</th>\n      <td>70.00</td>\n      <td>64</td>\n    </tr>\n    <tr>\n      <th>19</th>\n      <td>68.00</td>\n      <td>85</td>\n    </tr>\n    <tr>\n      <th>20</th>\n      <td>69.00</td>\n      <td>66</td>\n    </tr>\n    <tr>\n      <th>21</th>\n      <td>71.00</td>\n      <td>101</td>\n    </tr>\n    <tr>\n      <th>22</th>\n      <td>70.00</td>\n      <td>82</td>\n    </tr>\n    <tr>\n      <th>23</th>\n      <td>69.00</td>\n      <td>63</td>\n    </tr>\n    <tr>\n      <th>24</th>\n      <td>65.00</td>\n      <td>67</td>\n    </tr>\n  </tbody>\n</table>\n</div>"
     },
     "metadata": {},
     "execution_count": 25
    }
   ],
   "source": [
    "dataset.loc[:, ['Height', 'CWDistance']]"
   ]
  },
  {
   "cell_type": "code",
   "execution_count": 26,
   "metadata": {},
   "outputs": [
    {
     "output_type": "execute_result",
     "data": {
      "text/plain": "   GenderGroup Glasses  GlassesGroup\n0            1       Y             1\n1            1       Y             1\n2            1       Y             1\n3            1       N             0\n4            2       N             0",
      "text/html": "<div>\n<style scoped>\n    .dataframe tbody tr th:only-of-type {\n        vertical-align: middle;\n    }\n\n    .dataframe tbody tr th {\n        vertical-align: top;\n    }\n\n    .dataframe thead th {\n        text-align: right;\n    }\n</style>\n<table border=\"1\" class=\"dataframe\">\n  <thead>\n    <tr style=\"text-align: right;\">\n      <th></th>\n      <th>GenderGroup</th>\n      <th>Glasses</th>\n      <th>GlassesGroup</th>\n    </tr>\n  </thead>\n  <tbody>\n    <tr>\n      <th>0</th>\n      <td>1</td>\n      <td>Y</td>\n      <td>1</td>\n    </tr>\n    <tr>\n      <th>1</th>\n      <td>1</td>\n      <td>Y</td>\n      <td>1</td>\n    </tr>\n    <tr>\n      <th>2</th>\n      <td>1</td>\n      <td>Y</td>\n      <td>1</td>\n    </tr>\n    <tr>\n      <th>3</th>\n      <td>1</td>\n      <td>N</td>\n      <td>0</td>\n    </tr>\n    <tr>\n      <th>4</th>\n      <td>2</td>\n      <td>N</td>\n      <td>0</td>\n    </tr>\n  </tbody>\n</table>\n</div>"
     },
     "metadata": {},
     "execution_count": 26
    }
   ],
   "source": [
    "# x:y --> inicia en x: hasta antes de y\n",
    "dataset.iloc[0:5, 3:6]"
   ]
  },
  {
   "cell_type": "markdown",
   "metadata": {},
   "source": [
    "## at / iat"
   ]
  },
  {
   "cell_type": "code",
   "execution_count": 27,
   "metadata": {},
   "outputs": [
    {
     "output_type": "execute_result",
     "data": {
      "text/plain": "24"
     },
     "metadata": {},
     "execution_count": 27
    }
   ],
   "source": [
    "dataset.at[5, 'Age']"
   ]
  },
  {
   "cell_type": "code",
   "execution_count": 28,
   "metadata": {},
   "outputs": [
    {
     "output_type": "execute_result",
     "data": {
      "text/plain": "81"
     },
     "metadata": {},
     "execution_count": 28
    }
   ],
   "source": [
    "dataset.iat[5, 8]"
   ]
  },
  {
   "cell_type": "code",
   "execution_count": 29,
   "metadata": {},
   "outputs": [
    {
     "output_type": "execute_result",
     "data": {
      "text/plain": "   A   B  C\n0  1  10  9\n1  2  20  8\n2  3  30  7",
      "text/html": "<div>\n<style scoped>\n    .dataframe tbody tr th:only-of-type {\n        vertical-align: middle;\n    }\n\n    .dataframe tbody tr th {\n        vertical-align: top;\n    }\n\n    .dataframe thead th {\n        text-align: right;\n    }\n</style>\n<table border=\"1\" class=\"dataframe\">\n  <thead>\n    <tr style=\"text-align: right;\">\n      <th></th>\n      <th>A</th>\n      <th>B</th>\n      <th>C</th>\n    </tr>\n  </thead>\n  <tbody>\n    <tr>\n      <th>0</th>\n      <td>1</td>\n      <td>10</td>\n      <td>9</td>\n    </tr>\n    <tr>\n      <th>1</th>\n      <td>2</td>\n      <td>20</td>\n      <td>8</td>\n    </tr>\n    <tr>\n      <th>2</th>\n      <td>3</td>\n      <td>30</td>\n      <td>7</td>\n    </tr>\n  </tbody>\n</table>\n</div>"
     },
     "metadata": {},
     "execution_count": 29
    }
   ],
   "source": [
    "num_df = pd.DataFrame({'A':[1,2,3], 'B':[10,20,30], 'C':[9,8,7]})\n",
    "num_df"
   ]
  },
  {
   "cell_type": "code",
   "execution_count": 30,
   "metadata": {},
   "outputs": [],
   "source": [
    "# tabla 1\n",
    "num_df[num_df>8]\n",
    "# tabla copia\n",
    "df_copia = num_df[num_df>8].copy()"
   ]
  },
  {
   "cell_type": "code",
   "execution_count": 31,
   "metadata": {},
   "outputs": [
    {
     "output_type": "execute_result",
     "data": {
      "text/plain": "    A   B    C\n0 NaN  10  9.0\n1 NaN  20  NaN\n2 NaN  30  NaN",
      "text/html": "<div>\n<style scoped>\n    .dataframe tbody tr th:only-of-type {\n        vertical-align: middle;\n    }\n\n    .dataframe tbody tr th {\n        vertical-align: top;\n    }\n\n    .dataframe thead th {\n        text-align: right;\n    }\n</style>\n<table border=\"1\" class=\"dataframe\">\n  <thead>\n    <tr style=\"text-align: right;\">\n      <th></th>\n      <th>A</th>\n      <th>B</th>\n      <th>C</th>\n    </tr>\n  </thead>\n  <tbody>\n    <tr>\n      <th>0</th>\n      <td>NaN</td>\n      <td>10</td>\n      <td>9.0</td>\n    </tr>\n    <tr>\n      <th>1</th>\n      <td>NaN</td>\n      <td>20</td>\n      <td>NaN</td>\n    </tr>\n    <tr>\n      <th>2</th>\n      <td>NaN</td>\n      <td>30</td>\n      <td>NaN</td>\n    </tr>\n  </tbody>\n</table>\n</div>"
     },
     "metadata": {},
     "execution_count": 31
    }
   ],
   "source": [
    "df_copia"
   ]
  },
  {
   "cell_type": "code",
   "execution_count": 32,
   "metadata": {},
   "outputs": [
    {
     "output_type": "stream",
     "name": "stdout",
     "text": "5\n   A   B    C\n0  5  10  9.0\n1  5  20  NaN\n2  5  30  NaN\n"
    }
   ],
   "source": [
    "x = df_copia.loc[:, 'A']\n",
    "x = 5\n",
    "df_copia.loc[:, 'A'] = 5\n",
    "print(x)\n",
    "print(df_copia)"
   ]
  },
  {
   "cell_type": "code",
   "execution_count": 33,
   "metadata": {},
   "outputs": [
    {
     "output_type": "stream",
     "name": "stdout",
     "text": "A      B      C\n0  False  False  False\n1  False  False   True\n2  False  False   True\n"
    },
    {
     "output_type": "execute_result",
     "data": {
      "text/plain": "2"
     },
     "metadata": {},
     "execution_count": 33
    }
   ],
   "source": [
    "print(pd.isna(df_copia))\n",
    "pd.isna(df_copia).sum().sum()"
   ]
  },
  {
   "cell_type": "code",
   "execution_count": 34,
   "metadata": {},
   "outputs": [
    {
     "output_type": "execute_result",
     "data": {
      "text/plain": "   A   B    C\n0  5  10  9.0\n1  5  20  NaN\n2  5  30  NaN",
      "text/html": "<div>\n<style scoped>\n    .dataframe tbody tr th:only-of-type {\n        vertical-align: middle;\n    }\n\n    .dataframe tbody tr th {\n        vertical-align: top;\n    }\n\n    .dataframe thead th {\n        text-align: right;\n    }\n</style>\n<table border=\"1\" class=\"dataframe\">\n  <thead>\n    <tr style=\"text-align: right;\">\n      <th></th>\n      <th>A</th>\n      <th>B</th>\n      <th>C</th>\n    </tr>\n  </thead>\n  <tbody>\n    <tr>\n      <th>0</th>\n      <td>5</td>\n      <td>10</td>\n      <td>9.0</td>\n    </tr>\n    <tr>\n      <th>1</th>\n      <td>5</td>\n      <td>20</td>\n      <td>NaN</td>\n    </tr>\n    <tr>\n      <th>2</th>\n      <td>5</td>\n      <td>30</td>\n      <td>NaN</td>\n    </tr>\n  </tbody>\n</table>\n</div>"
     },
     "metadata": {},
     "execution_count": 34
    }
   ],
   "source": [
    "df_copia.head()"
   ]
  },
  {
   "cell_type": "code",
   "execution_count": 35,
   "metadata": {},
   "outputs": [
    {
     "output_type": "execute_result",
     "data": {
      "text/plain": "3"
     },
     "metadata": {},
     "execution_count": 35
    }
   ],
   "source": [
    "sum([1,2])"
   ]
  },
  {
   "cell_type": "markdown",
   "metadata": {},
   "source": [
    "## Otra operaciones importantes"
   ]
  },
  {
   "cell_type": "code",
   "execution_count": 36,
   "metadata": {},
   "outputs": [],
   "source": [
    "df = pd.DataFrame({'id':[1,2,3,4,5], 'Nombre':['A', 'B','C','D','E'], 'Edad':[12,20,33,51,92]})"
   ]
  },
  {
   "cell_type": "code",
   "execution_count": 37,
   "metadata": {},
   "outputs": [
    {
     "output_type": "execute_result",
     "data": {
      "text/plain": "   id Nombre  Edad\n0   1      A    12\n1   2      B    20\n2   3      C    33\n3   4      D    51\n4   5      E    92",
      "text/html": "<div>\n<style scoped>\n    .dataframe tbody tr th:only-of-type {\n        vertical-align: middle;\n    }\n\n    .dataframe tbody tr th {\n        vertical-align: top;\n    }\n\n    .dataframe thead th {\n        text-align: right;\n    }\n</style>\n<table border=\"1\" class=\"dataframe\">\n  <thead>\n    <tr style=\"text-align: right;\">\n      <th></th>\n      <th>id</th>\n      <th>Nombre</th>\n      <th>Edad</th>\n    </tr>\n  </thead>\n  <tbody>\n    <tr>\n      <th>0</th>\n      <td>1</td>\n      <td>A</td>\n      <td>12</td>\n    </tr>\n    <tr>\n      <th>1</th>\n      <td>2</td>\n      <td>B</td>\n      <td>20</td>\n    </tr>\n    <tr>\n      <th>2</th>\n      <td>3</td>\n      <td>C</td>\n      <td>33</td>\n    </tr>\n    <tr>\n      <th>3</th>\n      <td>4</td>\n      <td>D</td>\n      <td>51</td>\n    </tr>\n    <tr>\n      <th>4</th>\n      <td>5</td>\n      <td>E</td>\n      <td>92</td>\n    </tr>\n  </tbody>\n</table>\n</div>"
     },
     "metadata": {},
     "execution_count": 37
    }
   ],
   "source": [
    "df"
   ]
  },
  {
   "cell_type": "code",
   "execution_count": 38,
   "metadata": {},
   "outputs": [
    {
     "output_type": "execute_result",
     "data": {
      "text/plain": "   Edad\n0    12\n1    20\n2    33\n3    51\n4    92",
      "text/html": "<div>\n<style scoped>\n    .dataframe tbody tr th:only-of-type {\n        vertical-align: middle;\n    }\n\n    .dataframe tbody tr th {\n        vertical-align: top;\n    }\n\n    .dataframe thead th {\n        text-align: right;\n    }\n</style>\n<table border=\"1\" class=\"dataframe\">\n  <thead>\n    <tr style=\"text-align: right;\">\n      <th></th>\n      <th>Edad</th>\n    </tr>\n  </thead>\n  <tbody>\n    <tr>\n      <th>0</th>\n      <td>12</td>\n    </tr>\n    <tr>\n      <th>1</th>\n      <td>20</td>\n    </tr>\n    <tr>\n      <th>2</th>\n      <td>33</td>\n    </tr>\n    <tr>\n      <th>3</th>\n      <td>51</td>\n    </tr>\n    <tr>\n      <th>4</th>\n      <td>92</td>\n    </tr>\n  </tbody>\n</table>\n</div>"
     },
     "metadata": {},
     "execution_count": 38
    }
   ],
   "source": [
    "# Borrar columnas\n",
    "df.drop(columns=['id','Nombre'])"
   ]
  },
  {
   "cell_type": "code",
   "execution_count": 39,
   "metadata": {},
   "outputs": [],
   "source": [
    "df = df.loc[~((df['Edad']>25) & (df['Edad']<35)), :]"
   ]
  },
  {
   "cell_type": "code",
   "execution_count": 40,
   "metadata": {},
   "outputs": [
    {
     "output_type": "execute_result",
     "data": {
      "text/plain": "   id Nombre  Edad\n0   1      A    12\n1   2      B    20\n3   4      D    51\n4   5      E    92",
      "text/html": "<div>\n<style scoped>\n    .dataframe tbody tr th:only-of-type {\n        vertical-align: middle;\n    }\n\n    .dataframe tbody tr th {\n        vertical-align: top;\n    }\n\n    .dataframe thead th {\n        text-align: right;\n    }\n</style>\n<table border=\"1\" class=\"dataframe\">\n  <thead>\n    <tr style=\"text-align: right;\">\n      <th></th>\n      <th>id</th>\n      <th>Nombre</th>\n      <th>Edad</th>\n    </tr>\n  </thead>\n  <tbody>\n    <tr>\n      <th>0</th>\n      <td>1</td>\n      <td>A</td>\n      <td>12</td>\n    </tr>\n    <tr>\n      <th>1</th>\n      <td>2</td>\n      <td>B</td>\n      <td>20</td>\n    </tr>\n    <tr>\n      <th>3</th>\n      <td>4</td>\n      <td>D</td>\n      <td>51</td>\n    </tr>\n    <tr>\n      <th>4</th>\n      <td>5</td>\n      <td>E</td>\n      <td>92</td>\n    </tr>\n  </tbody>\n</table>\n</div>"
     },
     "metadata": {},
     "execution_count": 40
    }
   ],
   "source": [
    "df"
   ]
  },
  {
   "cell_type": "code",
   "execution_count": 41,
   "metadata": {},
   "outputs": [
    {
     "output_type": "execute_result",
     "data": {
      "text/plain": "   id Nombre  Edad\n0   1      A    12\n1   2      B    20\n2   4      D    51\n3   5      E    92",
      "text/html": "<div>\n<style scoped>\n    .dataframe tbody tr th:only-of-type {\n        vertical-align: middle;\n    }\n\n    .dataframe tbody tr th {\n        vertical-align: top;\n    }\n\n    .dataframe thead th {\n        text-align: right;\n    }\n</style>\n<table border=\"1\" class=\"dataframe\">\n  <thead>\n    <tr style=\"text-align: right;\">\n      <th></th>\n      <th>id</th>\n      <th>Nombre</th>\n      <th>Edad</th>\n    </tr>\n  </thead>\n  <tbody>\n    <tr>\n      <th>0</th>\n      <td>1</td>\n      <td>A</td>\n      <td>12</td>\n    </tr>\n    <tr>\n      <th>1</th>\n      <td>2</td>\n      <td>B</td>\n      <td>20</td>\n    </tr>\n    <tr>\n      <th>2</th>\n      <td>4</td>\n      <td>D</td>\n      <td>51</td>\n    </tr>\n    <tr>\n      <th>3</th>\n      <td>5</td>\n      <td>E</td>\n      <td>92</td>\n    </tr>\n  </tbody>\n</table>\n</div>"
     },
     "metadata": {},
     "execution_count": 41
    }
   ],
   "source": [
    "df.reset_index(drop=True)"
   ]
  },
  {
   "cell_type": "code",
   "execution_count": 42,
   "metadata": {},
   "outputs": [],
   "source": [
    "df['Ingresos'] = [100, 999, 20, 333]"
   ]
  },
  {
   "cell_type": "code",
   "execution_count": 43,
   "metadata": {},
   "outputs": [
    {
     "output_type": "execute_result",
     "data": {
      "text/plain": "   id Nombre  Edad  Ingresos\n0   1      A    12       100\n1   2      B    20       999\n3   4      D    51        20\n4   5      E    92       333",
      "text/html": "<div>\n<style scoped>\n    .dataframe tbody tr th:only-of-type {\n        vertical-align: middle;\n    }\n\n    .dataframe tbody tr th {\n        vertical-align: top;\n    }\n\n    .dataframe thead th {\n        text-align: right;\n    }\n</style>\n<table border=\"1\" class=\"dataframe\">\n  <thead>\n    <tr style=\"text-align: right;\">\n      <th></th>\n      <th>id</th>\n      <th>Nombre</th>\n      <th>Edad</th>\n      <th>Ingresos</th>\n    </tr>\n  </thead>\n  <tbody>\n    <tr>\n      <th>0</th>\n      <td>1</td>\n      <td>A</td>\n      <td>12</td>\n      <td>100</td>\n    </tr>\n    <tr>\n      <th>1</th>\n      <td>2</td>\n      <td>B</td>\n      <td>20</td>\n      <td>999</td>\n    </tr>\n    <tr>\n      <th>3</th>\n      <td>4</td>\n      <td>D</td>\n      <td>51</td>\n      <td>20</td>\n    </tr>\n    <tr>\n      <th>4</th>\n      <td>5</td>\n      <td>E</td>\n      <td>92</td>\n      <td>333</td>\n    </tr>\n  </tbody>\n</table>\n</div>"
     },
     "metadata": {},
     "execution_count": 43
    }
   ],
   "source": [
    "df"
   ]
  },
  {
   "cell_type": "code",
   "execution_count": 44,
   "metadata": {},
   "outputs": [
    {
     "output_type": "execute_result",
     "data": {
      "text/plain": "   id Nombre  Edad  Ingresos\n0   1      A    12       100\n1   2      B    20       999\n3   4      D    51        20\n4   5      E    92       333",
      "text/html": "<div>\n<style scoped>\n    .dataframe tbody tr th:only-of-type {\n        vertical-align: middle;\n    }\n\n    .dataframe tbody tr th {\n        vertical-align: top;\n    }\n\n    .dataframe thead th {\n        text-align: right;\n    }\n</style>\n<table border=\"1\" class=\"dataframe\">\n  <thead>\n    <tr style=\"text-align: right;\">\n      <th></th>\n      <th>id</th>\n      <th>Nombre</th>\n      <th>Edad</th>\n      <th>Ingresos</th>\n    </tr>\n  </thead>\n  <tbody>\n    <tr>\n      <th>0</th>\n      <td>1</td>\n      <td>A</td>\n      <td>12</td>\n      <td>100</td>\n    </tr>\n    <tr>\n      <th>1</th>\n      <td>2</td>\n      <td>B</td>\n      <td>20</td>\n      <td>999</td>\n    </tr>\n    <tr>\n      <th>3</th>\n      <td>4</td>\n      <td>D</td>\n      <td>51</td>\n      <td>20</td>\n    </tr>\n    <tr>\n      <th>4</th>\n      <td>5</td>\n      <td>E</td>\n      <td>92</td>\n      <td>333</td>\n    </tr>\n  </tbody>\n</table>\n</div>"
     },
     "metadata": {},
     "execution_count": 44
    }
   ],
   "source": [
    "df.sort_values(['Ingresos']).sort_index()"
   ]
  },
  {
   "cell_type": "code",
   "execution_count": 65,
   "metadata": {},
   "outputs": [],
   "source": [
    "# Proceso\n",
    "# df.loc[....].groupby(...).avg().reset_index().sort_values()"
   ]
  },
  {
   "cell_type": "code",
   "execution_count": 46,
   "metadata": {},
   "outputs": [
    {
     "output_type": "stream",
     "name": "stdout",
     "text": "<class 'pandas.core.frame.DataFrame'>\nInt64Index: 4 entries, 0 to 4\nData columns (total 4 columns):\n #   Column    Non-Null Count  Dtype \n---  ------    --------------  ----- \n 0   id        4 non-null      int64 \n 1   Nombre    4 non-null      object\n 2   Edad      4 non-null      int64 \n 3   Ingresos  4 non-null      int64 \ndtypes: int64(3), object(1)\nmemory usage: 160.0+ bytes\n"
    }
   ],
   "source": [
    "df.info()"
   ]
  },
  {
   "cell_type": "code",
   "execution_count": 47,
   "metadata": {},
   "outputs": [
    {
     "output_type": "execute_result",
     "data": {
      "text/plain": "id          4\nNombre      4\nEdad        4\nIngresos    4\ndtype: int64"
     },
     "metadata": {},
     "execution_count": 47
    }
   ],
   "source": [
    "df.count()"
   ]
  },
  {
   "cell_type": "markdown",
   "metadata": {},
   "source": [
    "### Operaciones sobre columnas"
   ]
  },
  {
   "cell_type": "code",
   "execution_count": 48,
   "metadata": {},
   "outputs": [
    {
     "output_type": "execute_result",
     "data": {
      "text/plain": "   id Nombre  Edad  Ingresos\n0   1      A    12       100\n1   2      B    20       999\n3   4      D    51        20\n4   5      E    92       333",
      "text/html": "<div>\n<style scoped>\n    .dataframe tbody tr th:only-of-type {\n        vertical-align: middle;\n    }\n\n    .dataframe tbody tr th {\n        vertical-align: top;\n    }\n\n    .dataframe thead th {\n        text-align: right;\n    }\n</style>\n<table border=\"1\" class=\"dataframe\">\n  <thead>\n    <tr style=\"text-align: right;\">\n      <th></th>\n      <th>id</th>\n      <th>Nombre</th>\n      <th>Edad</th>\n      <th>Ingresos</th>\n    </tr>\n  </thead>\n  <tbody>\n    <tr>\n      <th>0</th>\n      <td>1</td>\n      <td>A</td>\n      <td>12</td>\n      <td>100</td>\n    </tr>\n    <tr>\n      <th>1</th>\n      <td>2</td>\n      <td>B</td>\n      <td>20</td>\n      <td>999</td>\n    </tr>\n    <tr>\n      <th>3</th>\n      <td>4</td>\n      <td>D</td>\n      <td>51</td>\n      <td>20</td>\n    </tr>\n    <tr>\n      <th>4</th>\n      <td>5</td>\n      <td>E</td>\n      <td>92</td>\n      <td>333</td>\n    </tr>\n  </tbody>\n</table>\n</div>"
     },
     "metadata": {},
     "execution_count": 48
    }
   ],
   "source": [
    "df"
   ]
  },
  {
   "cell_type": "code",
   "execution_count": 49,
   "metadata": {},
   "outputs": [
    {
     "output_type": "execute_result",
     "data": {
      "text/plain": "1452"
     },
     "metadata": {},
     "execution_count": 49
    }
   ],
   "source": [
    "df['Ingresos'].sum()"
   ]
  },
  {
   "cell_type": "code",
   "execution_count": 50,
   "metadata": {},
   "outputs": [],
   "source": [
    "df['% Ingresos'] = round(df['Ingresos'] / df['Ingresos'].sum() * 100, 2)"
   ]
  },
  {
   "cell_type": "code",
   "execution_count": 51,
   "metadata": {},
   "outputs": [
    {
     "output_type": "execute_result",
     "data": {
      "text/plain": "   id Nombre  Edad  Ingresos  % Ingresos\n0   1      A    12       100        6.89\n1   2      B    20       999       68.80\n3   4      D    51        20        1.38\n4   5      E    92       333       22.93",
      "text/html": "<div>\n<style scoped>\n    .dataframe tbody tr th:only-of-type {\n        vertical-align: middle;\n    }\n\n    .dataframe tbody tr th {\n        vertical-align: top;\n    }\n\n    .dataframe thead th {\n        text-align: right;\n    }\n</style>\n<table border=\"1\" class=\"dataframe\">\n  <thead>\n    <tr style=\"text-align: right;\">\n      <th></th>\n      <th>id</th>\n      <th>Nombre</th>\n      <th>Edad</th>\n      <th>Ingresos</th>\n      <th>% Ingresos</th>\n    </tr>\n  </thead>\n  <tbody>\n    <tr>\n      <th>0</th>\n      <td>1</td>\n      <td>A</td>\n      <td>12</td>\n      <td>100</td>\n      <td>6.89</td>\n    </tr>\n    <tr>\n      <th>1</th>\n      <td>2</td>\n      <td>B</td>\n      <td>20</td>\n      <td>999</td>\n      <td>68.80</td>\n    </tr>\n    <tr>\n      <th>3</th>\n      <td>4</td>\n      <td>D</td>\n      <td>51</td>\n      <td>20</td>\n      <td>1.38</td>\n    </tr>\n    <tr>\n      <th>4</th>\n      <td>5</td>\n      <td>E</td>\n      <td>92</td>\n      <td>333</td>\n      <td>22.93</td>\n    </tr>\n  </tbody>\n</table>\n</div>"
     },
     "metadata": {},
     "execution_count": 51
    }
   ],
   "source": [
    "df"
   ]
  },
  {
   "cell_type": "code",
   "execution_count": 52,
   "metadata": {},
   "outputs": [],
   "source": [
    "df = df.sort_values(['Ingresos'], ascending=False).reset_index(drop=True)"
   ]
  },
  {
   "cell_type": "code",
   "execution_count": 53,
   "metadata": {},
   "outputs": [
    {
     "output_type": "execute_result",
     "data": {
      "text/plain": "   id Nombre  Edad  Ingresos  % Ingresos\n0   2      B    20       999       68.80\n1   5      E    92       333       22.93\n2   1      A    12       100        6.89\n3   4      D    51        20        1.38",
      "text/html": "<div>\n<style scoped>\n    .dataframe tbody tr th:only-of-type {\n        vertical-align: middle;\n    }\n\n    .dataframe tbody tr th {\n        vertical-align: top;\n    }\n\n    .dataframe thead th {\n        text-align: right;\n    }\n</style>\n<table border=\"1\" class=\"dataframe\">\n  <thead>\n    <tr style=\"text-align: right;\">\n      <th></th>\n      <th>id</th>\n      <th>Nombre</th>\n      <th>Edad</th>\n      <th>Ingresos</th>\n      <th>% Ingresos</th>\n    </tr>\n  </thead>\n  <tbody>\n    <tr>\n      <th>0</th>\n      <td>2</td>\n      <td>B</td>\n      <td>20</td>\n      <td>999</td>\n      <td>68.80</td>\n    </tr>\n    <tr>\n      <th>1</th>\n      <td>5</td>\n      <td>E</td>\n      <td>92</td>\n      <td>333</td>\n      <td>22.93</td>\n    </tr>\n    <tr>\n      <th>2</th>\n      <td>1</td>\n      <td>A</td>\n      <td>12</td>\n      <td>100</td>\n      <td>6.89</td>\n    </tr>\n    <tr>\n      <th>3</th>\n      <td>4</td>\n      <td>D</td>\n      <td>51</td>\n      <td>20</td>\n      <td>1.38</td>\n    </tr>\n  </tbody>\n</table>\n</div>"
     },
     "metadata": {},
     "execution_count": 53
    }
   ],
   "source": [
    "df"
   ]
  },
  {
   "cell_type": "code",
   "execution_count": 54,
   "metadata": {},
   "outputs": [],
   "source": [
    "df['% Ingresos Acum'] = round(df['Ingresos'].cumsum() / df['Ingresos'].sum() * 100, 2)"
   ]
  },
  {
   "cell_type": "code",
   "execution_count": 55,
   "metadata": {},
   "outputs": [
    {
     "output_type": "execute_result",
     "data": {
      "text/plain": "   id Nombre  Edad  Ingresos  % Ingresos  % Ingresos Acum\n0   2      B    20       999       68.80            68.80\n1   5      E    92       333       22.93            91.74\n2   1      A    12       100        6.89            98.62\n3   4      D    51        20        1.38           100.00",
      "text/html": "<div>\n<style scoped>\n    .dataframe tbody tr th:only-of-type {\n        vertical-align: middle;\n    }\n\n    .dataframe tbody tr th {\n        vertical-align: top;\n    }\n\n    .dataframe thead th {\n        text-align: right;\n    }\n</style>\n<table border=\"1\" class=\"dataframe\">\n  <thead>\n    <tr style=\"text-align: right;\">\n      <th></th>\n      <th>id</th>\n      <th>Nombre</th>\n      <th>Edad</th>\n      <th>Ingresos</th>\n      <th>% Ingresos</th>\n      <th>% Ingresos Acum</th>\n    </tr>\n  </thead>\n  <tbody>\n    <tr>\n      <th>0</th>\n      <td>2</td>\n      <td>B</td>\n      <td>20</td>\n      <td>999</td>\n      <td>68.80</td>\n      <td>68.80</td>\n    </tr>\n    <tr>\n      <th>1</th>\n      <td>5</td>\n      <td>E</td>\n      <td>92</td>\n      <td>333</td>\n      <td>22.93</td>\n      <td>91.74</td>\n    </tr>\n    <tr>\n      <th>2</th>\n      <td>1</td>\n      <td>A</td>\n      <td>12</td>\n      <td>100</td>\n      <td>6.89</td>\n      <td>98.62</td>\n    </tr>\n    <tr>\n      <th>3</th>\n      <td>4</td>\n      <td>D</td>\n      <td>51</td>\n      <td>20</td>\n      <td>1.38</td>\n      <td>100.00</td>\n    </tr>\n  </tbody>\n</table>\n</div>"
     },
     "metadata": {},
     "execution_count": 55
    }
   ],
   "source": [
    "df"
   ]
  },
  {
   "cell_type": "code",
   "execution_count": 56,
   "metadata": {},
   "outputs": [
    {
     "output_type": "execute_result",
     "data": {
      "text/plain": "20"
     },
     "metadata": {},
     "execution_count": 56
    }
   ],
   "source": [
    "df['Ingresos'].min()"
   ]
  },
  {
   "cell_type": "code",
   "execution_count": 57,
   "metadata": {},
   "outputs": [
    {
     "output_type": "execute_result",
     "data": {
      "text/plain": "999"
     },
     "metadata": {},
     "execution_count": 57
    }
   ],
   "source": [
    "df['Ingresos'].max()"
   ]
  },
  {
   "cell_type": "code",
   "execution_count": 58,
   "metadata": {},
   "outputs": [
    {
     "output_type": "execute_result",
     "data": {
      "text/plain": "             id       Edad   Ingresos  % Ingresos  % Ingresos Acum\ncount  4.000000   4.000000    4.00000    4.000000         4.000000\nmean   3.000000  43.750000  363.00000   25.000000        89.790000\nstd    1.825742  36.298531  444.30245   30.597393        14.452169\nmin    1.000000  12.000000   20.00000    1.380000        68.800000\n25%    1.750000  18.000000   80.00000    5.512500        86.005000\n50%    3.000000  35.500000  216.50000   14.910000        95.180000\n75%    4.250000  61.250000  499.50000   34.397500        98.965000\nmax    5.000000  92.000000  999.00000   68.800000       100.000000",
      "text/html": "<div>\n<style scoped>\n    .dataframe tbody tr th:only-of-type {\n        vertical-align: middle;\n    }\n\n    .dataframe tbody tr th {\n        vertical-align: top;\n    }\n\n    .dataframe thead th {\n        text-align: right;\n    }\n</style>\n<table border=\"1\" class=\"dataframe\">\n  <thead>\n    <tr style=\"text-align: right;\">\n      <th></th>\n      <th>id</th>\n      <th>Edad</th>\n      <th>Ingresos</th>\n      <th>% Ingresos</th>\n      <th>% Ingresos Acum</th>\n    </tr>\n  </thead>\n  <tbody>\n    <tr>\n      <th>count</th>\n      <td>4.000000</td>\n      <td>4.000000</td>\n      <td>4.00000</td>\n      <td>4.000000</td>\n      <td>4.000000</td>\n    </tr>\n    <tr>\n      <th>mean</th>\n      <td>3.000000</td>\n      <td>43.750000</td>\n      <td>363.00000</td>\n      <td>25.000000</td>\n      <td>89.790000</td>\n    </tr>\n    <tr>\n      <th>std</th>\n      <td>1.825742</td>\n      <td>36.298531</td>\n      <td>444.30245</td>\n      <td>30.597393</td>\n      <td>14.452169</td>\n    </tr>\n    <tr>\n      <th>min</th>\n      <td>1.000000</td>\n      <td>12.000000</td>\n      <td>20.00000</td>\n      <td>1.380000</td>\n      <td>68.800000</td>\n    </tr>\n    <tr>\n      <th>25%</th>\n      <td>1.750000</td>\n      <td>18.000000</td>\n      <td>80.00000</td>\n      <td>5.512500</td>\n      <td>86.005000</td>\n    </tr>\n    <tr>\n      <th>50%</th>\n      <td>3.000000</td>\n      <td>35.500000</td>\n      <td>216.50000</td>\n      <td>14.910000</td>\n      <td>95.180000</td>\n    </tr>\n    <tr>\n      <th>75%</th>\n      <td>4.250000</td>\n      <td>61.250000</td>\n      <td>499.50000</td>\n      <td>34.397500</td>\n      <td>98.965000</td>\n    </tr>\n    <tr>\n      <th>max</th>\n      <td>5.000000</td>\n      <td>92.000000</td>\n      <td>999.00000</td>\n      <td>68.800000</td>\n      <td>100.000000</td>\n    </tr>\n  </tbody>\n</table>\n</div>"
     },
     "metadata": {},
     "execution_count": 58
    }
   ],
   "source": [
    "df.describe()"
   ]
  },
  {
   "cell_type": "code",
   "execution_count": 59,
   "metadata": {},
   "outputs": [
    {
     "output_type": "execute_result",
     "data": {
      "text/plain": "363.0"
     },
     "metadata": {},
     "execution_count": 59
    }
   ],
   "source": [
    "df['Ingresos'].mean()"
   ]
  },
  {
   "cell_type": "code",
   "execution_count": 60,
   "metadata": {},
   "outputs": [
    {
     "output_type": "execute_result",
     "data": {
      "text/plain": "   id Nombre  Edad  Ingresos  % Ingresos  % Ingresos Acum\n0   2      B    20       999       68.80            68.80\n1   5      E    92       333       22.93            91.74\n2   1      A    12       100        6.89            98.62\n3   4      D    51        20        1.38           100.00",
      "text/html": "<div>\n<style scoped>\n    .dataframe tbody tr th:only-of-type {\n        vertical-align: middle;\n    }\n\n    .dataframe tbody tr th {\n        vertical-align: top;\n    }\n\n    .dataframe thead th {\n        text-align: right;\n    }\n</style>\n<table border=\"1\" class=\"dataframe\">\n  <thead>\n    <tr style=\"text-align: right;\">\n      <th></th>\n      <th>id</th>\n      <th>Nombre</th>\n      <th>Edad</th>\n      <th>Ingresos</th>\n      <th>% Ingresos</th>\n      <th>% Ingresos Acum</th>\n    </tr>\n  </thead>\n  <tbody>\n    <tr>\n      <th>0</th>\n      <td>2</td>\n      <td>B</td>\n      <td>20</td>\n      <td>999</td>\n      <td>68.80</td>\n      <td>68.80</td>\n    </tr>\n    <tr>\n      <th>1</th>\n      <td>5</td>\n      <td>E</td>\n      <td>92</td>\n      <td>333</td>\n      <td>22.93</td>\n      <td>91.74</td>\n    </tr>\n    <tr>\n      <th>2</th>\n      <td>1</td>\n      <td>A</td>\n      <td>12</td>\n      <td>100</td>\n      <td>6.89</td>\n      <td>98.62</td>\n    </tr>\n    <tr>\n      <th>3</th>\n      <td>4</td>\n      <td>D</td>\n      <td>51</td>\n      <td>20</td>\n      <td>1.38</td>\n      <td>100.00</td>\n    </tr>\n  </tbody>\n</table>\n</div>"
     },
     "metadata": {},
     "execution_count": 60
    }
   ],
   "source": [
    "df"
   ]
  },
  {
   "cell_type": "code",
   "execution_count": 61,
   "metadata": {},
   "outputs": [
    {
     "output_type": "execute_result",
     "data": {
      "text/plain": "25"
     },
     "metadata": {},
     "execution_count": 61
    }
   ],
   "source": [
    "# def funcion(x):\n",
    "    # ...\n",
    "    # ...\n",
    "    # return result\n",
    "\n",
    "f = lambda x: x**2\n",
    "f(5)"
   ]
  },
  {
   "cell_type": "code",
   "execution_count": 62,
   "metadata": {},
   "outputs": [],
   "source": [
    "# x es un valor de una celda de la columna elegida\n",
    "df['Cat Ingresos'] = df['Ingresos'].apply(lambda x: 'Alto' if x > 500  else ('Regular' if x > 100 else 'Bajo'))"
   ]
  },
  {
   "cell_type": "code",
   "execution_count": 63,
   "metadata": {},
   "outputs": [
    {
     "output_type": "execute_result",
     "data": {
      "text/plain": "   id Nombre  Edad  Ingresos  % Ingresos  % Ingresos Acum Cat Ingresos\n0   2      B    20       999       68.80            68.80         Alto\n1   5      E    92       333       22.93            91.74      Regular\n2   1      A    12       100        6.89            98.62         Bajo\n3   4      D    51        20        1.38           100.00         Bajo",
      "text/html": "<div>\n<style scoped>\n    .dataframe tbody tr th:only-of-type {\n        vertical-align: middle;\n    }\n\n    .dataframe tbody tr th {\n        vertical-align: top;\n    }\n\n    .dataframe thead th {\n        text-align: right;\n    }\n</style>\n<table border=\"1\" class=\"dataframe\">\n  <thead>\n    <tr style=\"text-align: right;\">\n      <th></th>\n      <th>id</th>\n      <th>Nombre</th>\n      <th>Edad</th>\n      <th>Ingresos</th>\n      <th>% Ingresos</th>\n      <th>% Ingresos Acum</th>\n      <th>Cat Ingresos</th>\n    </tr>\n  </thead>\n  <tbody>\n    <tr>\n      <th>0</th>\n      <td>2</td>\n      <td>B</td>\n      <td>20</td>\n      <td>999</td>\n      <td>68.80</td>\n      <td>68.80</td>\n      <td>Alto</td>\n    </tr>\n    <tr>\n      <th>1</th>\n      <td>5</td>\n      <td>E</td>\n      <td>92</td>\n      <td>333</td>\n      <td>22.93</td>\n      <td>91.74</td>\n      <td>Regular</td>\n    </tr>\n    <tr>\n      <th>2</th>\n      <td>1</td>\n      <td>A</td>\n      <td>12</td>\n      <td>100</td>\n      <td>6.89</td>\n      <td>98.62</td>\n      <td>Bajo</td>\n    </tr>\n    <tr>\n      <th>3</th>\n      <td>4</td>\n      <td>D</td>\n      <td>51</td>\n      <td>20</td>\n      <td>1.38</td>\n      <td>100.00</td>\n      <td>Bajo</td>\n    </tr>\n  </tbody>\n</table>\n</div>"
     },
     "metadata": {},
     "execution_count": 63
    }
   ],
   "source": [
    "df"
   ]
  },
  {
   "cell_type": "code",
   "execution_count": 64,
   "metadata": {},
   "outputs": [
    {
     "output_type": "execute_result",
     "data": {
      "text/plain": "0    Impar\n1    Impar\n2      Par\n3      Par\nName: Ingresos, dtype: object"
     },
     "metadata": {},
     "execution_count": 64
    }
   ],
   "source": [
    "def ispar(x):\n",
    "    if x%2==0:\n",
    "        return 'Par'\n",
    "    else:\n",
    "        return 'Impar'\n",
    "\n",
    "# df['Ingresos'].apply(lambda x: 'Par' if x % 2==0 else 'Impar')\n",
    "df['Ingresos'].apply(ispar)"
   ]
  },
  {
   "cell_type": "code",
   "execution_count": 67,
   "metadata": {},
   "outputs": [
    {
     "output_type": "execute_result",
     "data": {
      "text/plain": "   id Nombre  Edad  Ingresos  % Ingresos  % Ingresos Acum Cat Ingresos  \\\n0   2      B    20       999       68.80            68.80         Alto   \n1   5      E    92       333       22.93            91.74      Regular   \n2   1      A    12       100        6.89            98.62         Bajo   \n3   4      D    51        20        1.38           100.00         Bajo   \n\n     Telf1    Telf2  \n0      NaN  33333.0  \n1  12345.0  98765.0  \n2      NaN      NaN  \n3  99999.0      NaN  ",
      "text/html": "<div>\n<style scoped>\n    .dataframe tbody tr th:only-of-type {\n        vertical-align: middle;\n    }\n\n    .dataframe tbody tr th {\n        vertical-align: top;\n    }\n\n    .dataframe thead th {\n        text-align: right;\n    }\n</style>\n<table border=\"1\" class=\"dataframe\">\n  <thead>\n    <tr style=\"text-align: right;\">\n      <th></th>\n      <th>id</th>\n      <th>Nombre</th>\n      <th>Edad</th>\n      <th>Ingresos</th>\n      <th>% Ingresos</th>\n      <th>% Ingresos Acum</th>\n      <th>Cat Ingresos</th>\n      <th>Telf1</th>\n      <th>Telf2</th>\n    </tr>\n  </thead>\n  <tbody>\n    <tr>\n      <th>0</th>\n      <td>2</td>\n      <td>B</td>\n      <td>20</td>\n      <td>999</td>\n      <td>68.80</td>\n      <td>68.80</td>\n      <td>Alto</td>\n      <td>NaN</td>\n      <td>33333.0</td>\n    </tr>\n    <tr>\n      <th>1</th>\n      <td>5</td>\n      <td>E</td>\n      <td>92</td>\n      <td>333</td>\n      <td>22.93</td>\n      <td>91.74</td>\n      <td>Regular</td>\n      <td>12345.0</td>\n      <td>98765.0</td>\n    </tr>\n    <tr>\n      <th>2</th>\n      <td>1</td>\n      <td>A</td>\n      <td>12</td>\n      <td>100</td>\n      <td>6.89</td>\n      <td>98.62</td>\n      <td>Bajo</td>\n      <td>NaN</td>\n      <td>NaN</td>\n    </tr>\n    <tr>\n      <th>3</th>\n      <td>4</td>\n      <td>D</td>\n      <td>51</td>\n      <td>20</td>\n      <td>1.38</td>\n      <td>100.00</td>\n      <td>Bajo</td>\n      <td>99999.0</td>\n      <td>NaN</td>\n    </tr>\n  </tbody>\n</table>\n</div>"
     },
     "metadata": {},
     "execution_count": 67
    }
   ],
   "source": [
    "df['Telf1'] = [np.nan, 12345, np.nan, 99999]\n",
    "df['Telf2'] = [33333, 98765, np.nan, np.nan]\n",
    "df"
   ]
  },
  {
   "cell_type": "code",
   "execution_count": 70,
   "metadata": {},
   "outputs": [
    {
     "output_type": "execute_result",
     "data": {
      "text/plain": "0        nan\n1    12345.0\n2        nan\n3    99999.0\nName: Telf1, dtype: object"
     },
     "metadata": {},
     "execution_count": 70
    }
   ],
   "source": [
    "# Cambiar el tipo de una columna\n",
    "df['Telf1'].astype(str)"
   ]
  },
  {
   "cell_type": "code",
   "execution_count": 74,
   "metadata": {},
   "outputs": [],
   "source": [
    "# row es una pd.Serie (col -> x = 0 / row -> x = 1)\n",
    "def get_telefono_norm(row):\n",
    "    if pd.isna(row['Telf1']):\n",
    "        return row['Telf2']\n",
    "    else:\n",
    "        return row['Telf1']\n",
    "\n",
    "# df['telefono_norm'] = df.apply(lambda row: row['Telf2'] if pd.isna(row['Telf1']) else row['Telf1'], axis=1)\n",
    "df['telefono_norm'] = df.apply(get_telefono_norm, axis=1)"
   ]
  },
  {
   "cell_type": "code",
   "execution_count": 75,
   "metadata": {},
   "outputs": [
    {
     "output_type": "execute_result",
     "data": {
      "text/plain": "   id Nombre  Edad  Ingresos  % Ingresos  % Ingresos Acum Cat Ingresos  \\\n0   2      B    20       999       68.80            68.80         Alto   \n1   5      E    92       333       22.93            91.74      Regular   \n2   1      A    12       100        6.89            98.62         Bajo   \n3   4      D    51        20        1.38           100.00         Bajo   \n\n     Telf1    Telf2  telefono_norm  \n0      NaN  33333.0        33333.0  \n1  12345.0  98765.0        12345.0  \n2      NaN      NaN            NaN  \n3  99999.0      NaN        99999.0  ",
      "text/html": "<div>\n<style scoped>\n    .dataframe tbody tr th:only-of-type {\n        vertical-align: middle;\n    }\n\n    .dataframe tbody tr th {\n        vertical-align: top;\n    }\n\n    .dataframe thead th {\n        text-align: right;\n    }\n</style>\n<table border=\"1\" class=\"dataframe\">\n  <thead>\n    <tr style=\"text-align: right;\">\n      <th></th>\n      <th>id</th>\n      <th>Nombre</th>\n      <th>Edad</th>\n      <th>Ingresos</th>\n      <th>% Ingresos</th>\n      <th>% Ingresos Acum</th>\n      <th>Cat Ingresos</th>\n      <th>Telf1</th>\n      <th>Telf2</th>\n      <th>telefono_norm</th>\n    </tr>\n  </thead>\n  <tbody>\n    <tr>\n      <th>0</th>\n      <td>2</td>\n      <td>B</td>\n      <td>20</td>\n      <td>999</td>\n      <td>68.80</td>\n      <td>68.80</td>\n      <td>Alto</td>\n      <td>NaN</td>\n      <td>33333.0</td>\n      <td>33333.0</td>\n    </tr>\n    <tr>\n      <th>1</th>\n      <td>5</td>\n      <td>E</td>\n      <td>92</td>\n      <td>333</td>\n      <td>22.93</td>\n      <td>91.74</td>\n      <td>Regular</td>\n      <td>12345.0</td>\n      <td>98765.0</td>\n      <td>12345.0</td>\n    </tr>\n    <tr>\n      <th>2</th>\n      <td>1</td>\n      <td>A</td>\n      <td>12</td>\n      <td>100</td>\n      <td>6.89</td>\n      <td>98.62</td>\n      <td>Bajo</td>\n      <td>NaN</td>\n      <td>NaN</td>\n      <td>NaN</td>\n    </tr>\n    <tr>\n      <th>3</th>\n      <td>4</td>\n      <td>D</td>\n      <td>51</td>\n      <td>20</td>\n      <td>1.38</td>\n      <td>100.00</td>\n      <td>Bajo</td>\n      <td>99999.0</td>\n      <td>NaN</td>\n      <td>99999.0</td>\n    </tr>\n  </tbody>\n</table>\n</div>"
     },
     "metadata": {},
     "execution_count": 75
    }
   ],
   "source": [
    "df"
   ]
  },
  {
   "cell_type": "code",
   "execution_count": 79,
   "metadata": {},
   "outputs": [
    {
     "output_type": "execute_result",
     "data": {
      "text/plain": "0     33333.0\n1    111110.0\n2         0.0\n3     99999.0\ndtype: float64"
     },
     "metadata": {},
     "execution_count": 79
    }
   ],
   "source": [
    "# NaN \"op\" X = NaN\n",
    "df['Telf1'].fillna(0) + df['Telf2'].fillna(0)"
   ]
  },
  {
   "cell_type": "code",
   "execution_count": 81,
   "metadata": {},
   "outputs": [
    {
     "output_type": "execute_result",
     "data": {
      "text/plain": "56172.0"
     },
     "metadata": {},
     "execution_count": 81
    }
   ],
   "source": [
    "df['Telf1'].mean()"
   ]
  },
  {
   "cell_type": "code",
   "execution_count": 82,
   "metadata": {},
   "outputs": [
    {
     "output_type": "execute_result",
     "data": {
      "text/plain": "28086.0"
     },
     "metadata": {},
     "execution_count": 82
    }
   ],
   "source": [
    "df['Telf1'].fillna(0).mean()"
   ]
  },
  {
   "cell_type": "markdown",
   "metadata": {},
   "source": [
    "# COMBINING DATA"
   ]
  },
  {
   "cell_type": "markdown",
   "metadata": {},
   "source": [
    "## merge"
   ]
  },
  {
   "cell_type": "code",
   "execution_count": 84,
   "metadata": {},
   "outputs": [],
   "source": [
    "df_compras = pd.DataFrame({'id': [2, 4, 99, 2],\n",
    "                            'Prod': ['Cepillo', 'PH', 'Car', 'Entrada'],\n",
    "                            'Precio': [1.5, 12, 5000, 300]\n",
    "                            })"
   ]
  },
  {
   "cell_type": "code",
   "execution_count": 86,
   "metadata": {},
   "outputs": [
    {
     "output_type": "execute_result",
     "data": {
      "text/plain": "   id Nombre  Edad  Ingresos  % Ingresos  % Ingresos Acum Cat Ingresos  \\\n0   2      B    20       999       68.80            68.80         Alto   \n1   5      E    92       333       22.93            91.74      Regular   \n2   1      A    12       100        6.89            98.62         Bajo   \n3   4      D    51        20        1.38           100.00         Bajo   \n\n     Telf1    Telf2  telefono_norm  \n0      NaN  33333.0        33333.0  \n1  12345.0  98765.0        12345.0  \n2      NaN      NaN            NaN  \n3  99999.0      NaN        99999.0  ",
      "text/html": "<div>\n<style scoped>\n    .dataframe tbody tr th:only-of-type {\n        vertical-align: middle;\n    }\n\n    .dataframe tbody tr th {\n        vertical-align: top;\n    }\n\n    .dataframe thead th {\n        text-align: right;\n    }\n</style>\n<table border=\"1\" class=\"dataframe\">\n  <thead>\n    <tr style=\"text-align: right;\">\n      <th></th>\n      <th>id</th>\n      <th>Nombre</th>\n      <th>Edad</th>\n      <th>Ingresos</th>\n      <th>% Ingresos</th>\n      <th>% Ingresos Acum</th>\n      <th>Cat Ingresos</th>\n      <th>Telf1</th>\n      <th>Telf2</th>\n      <th>telefono_norm</th>\n    </tr>\n  </thead>\n  <tbody>\n    <tr>\n      <th>0</th>\n      <td>2</td>\n      <td>B</td>\n      <td>20</td>\n      <td>999</td>\n      <td>68.80</td>\n      <td>68.80</td>\n      <td>Alto</td>\n      <td>NaN</td>\n      <td>33333.0</td>\n      <td>33333.0</td>\n    </tr>\n    <tr>\n      <th>1</th>\n      <td>5</td>\n      <td>E</td>\n      <td>92</td>\n      <td>333</td>\n      <td>22.93</td>\n      <td>91.74</td>\n      <td>Regular</td>\n      <td>12345.0</td>\n      <td>98765.0</td>\n      <td>12345.0</td>\n    </tr>\n    <tr>\n      <th>2</th>\n      <td>1</td>\n      <td>A</td>\n      <td>12</td>\n      <td>100</td>\n      <td>6.89</td>\n      <td>98.62</td>\n      <td>Bajo</td>\n      <td>NaN</td>\n      <td>NaN</td>\n      <td>NaN</td>\n    </tr>\n    <tr>\n      <th>3</th>\n      <td>4</td>\n      <td>D</td>\n      <td>51</td>\n      <td>20</td>\n      <td>1.38</td>\n      <td>100.00</td>\n      <td>Bajo</td>\n      <td>99999.0</td>\n      <td>NaN</td>\n      <td>99999.0</td>\n    </tr>\n  </tbody>\n</table>\n</div>"
     },
     "metadata": {},
     "execution_count": 86
    }
   ],
   "source": [
    "df"
   ]
  },
  {
   "cell_type": "code",
   "execution_count": 85,
   "metadata": {},
   "outputs": [
    {
     "output_type": "execute_result",
     "data": {
      "text/plain": "   id     Prod  Precio\n0   2  Cepillo     1.5\n1   4       PH    12.0\n2  99      Car  5000.0\n3   2  Entrada   300.0",
      "text/html": "<div>\n<style scoped>\n    .dataframe tbody tr th:only-of-type {\n        vertical-align: middle;\n    }\n\n    .dataframe tbody tr th {\n        vertical-align: top;\n    }\n\n    .dataframe thead th {\n        text-align: right;\n    }\n</style>\n<table border=\"1\" class=\"dataframe\">\n  <thead>\n    <tr style=\"text-align: right;\">\n      <th></th>\n      <th>id</th>\n      <th>Prod</th>\n      <th>Precio</th>\n    </tr>\n  </thead>\n  <tbody>\n    <tr>\n      <th>0</th>\n      <td>2</td>\n      <td>Cepillo</td>\n      <td>1.5</td>\n    </tr>\n    <tr>\n      <th>1</th>\n      <td>4</td>\n      <td>PH</td>\n      <td>12.0</td>\n    </tr>\n    <tr>\n      <th>2</th>\n      <td>99</td>\n      <td>Car</td>\n      <td>5000.0</td>\n    </tr>\n    <tr>\n      <th>3</th>\n      <td>2</td>\n      <td>Entrada</td>\n      <td>300.0</td>\n    </tr>\n  </tbody>\n</table>\n</div>"
     },
     "metadata": {},
     "execution_count": 85
    }
   ],
   "source": [
    "df_compras"
   ]
  },
  {
   "cell_type": "code",
   "execution_count": 87,
   "metadata": {},
   "outputs": [
    {
     "output_type": "execute_result",
     "data": {
      "text/plain": "   id Nombre  Edad  Ingresos  % Ingresos  % Ingresos Acum Cat Ingresos  \\\n0   2      B    20       999       68.80            68.80         Alto   \n1   2      B    20       999       68.80            68.80         Alto   \n2   5      E    92       333       22.93            91.74      Regular   \n3   1      A    12       100        6.89            98.62         Bajo   \n4   4      D    51        20        1.38           100.00         Bajo   \n\n     Telf1    Telf2  telefono_norm     Prod  Precio  \n0      NaN  33333.0        33333.0  Cepillo     1.5  \n1      NaN  33333.0        33333.0  Entrada   300.0  \n2  12345.0  98765.0        12345.0      NaN     NaN  \n3      NaN      NaN            NaN      NaN     NaN  \n4  99999.0      NaN        99999.0       PH    12.0  ",
      "text/html": "<div>\n<style scoped>\n    .dataframe tbody tr th:only-of-type {\n        vertical-align: middle;\n    }\n\n    .dataframe tbody tr th {\n        vertical-align: top;\n    }\n\n    .dataframe thead th {\n        text-align: right;\n    }\n</style>\n<table border=\"1\" class=\"dataframe\">\n  <thead>\n    <tr style=\"text-align: right;\">\n      <th></th>\n      <th>id</th>\n      <th>Nombre</th>\n      <th>Edad</th>\n      <th>Ingresos</th>\n      <th>% Ingresos</th>\n      <th>% Ingresos Acum</th>\n      <th>Cat Ingresos</th>\n      <th>Telf1</th>\n      <th>Telf2</th>\n      <th>telefono_norm</th>\n      <th>Prod</th>\n      <th>Precio</th>\n    </tr>\n  </thead>\n  <tbody>\n    <tr>\n      <th>0</th>\n      <td>2</td>\n      <td>B</td>\n      <td>20</td>\n      <td>999</td>\n      <td>68.80</td>\n      <td>68.80</td>\n      <td>Alto</td>\n      <td>NaN</td>\n      <td>33333.0</td>\n      <td>33333.0</td>\n      <td>Cepillo</td>\n      <td>1.5</td>\n    </tr>\n    <tr>\n      <th>1</th>\n      <td>2</td>\n      <td>B</td>\n      <td>20</td>\n      <td>999</td>\n      <td>68.80</td>\n      <td>68.80</td>\n      <td>Alto</td>\n      <td>NaN</td>\n      <td>33333.0</td>\n      <td>33333.0</td>\n      <td>Entrada</td>\n      <td>300.0</td>\n    </tr>\n    <tr>\n      <th>2</th>\n      <td>5</td>\n      <td>E</td>\n      <td>92</td>\n      <td>333</td>\n      <td>22.93</td>\n      <td>91.74</td>\n      <td>Regular</td>\n      <td>12345.0</td>\n      <td>98765.0</td>\n      <td>12345.0</td>\n      <td>NaN</td>\n      <td>NaN</td>\n    </tr>\n    <tr>\n      <th>3</th>\n      <td>1</td>\n      <td>A</td>\n      <td>12</td>\n      <td>100</td>\n      <td>6.89</td>\n      <td>98.62</td>\n      <td>Bajo</td>\n      <td>NaN</td>\n      <td>NaN</td>\n      <td>NaN</td>\n      <td>NaN</td>\n      <td>NaN</td>\n    </tr>\n    <tr>\n      <th>4</th>\n      <td>4</td>\n      <td>D</td>\n      <td>51</td>\n      <td>20</td>\n      <td>1.38</td>\n      <td>100.00</td>\n      <td>Bajo</td>\n      <td>99999.0</td>\n      <td>NaN</td>\n      <td>99999.0</td>\n      <td>PH</td>\n      <td>12.0</td>\n    </tr>\n  </tbody>\n</table>\n</div>"
     },
     "metadata": {},
     "execution_count": 87
    }
   ],
   "source": [
    "pd.merge(df, df_compras, how='left', on=['id'])"
   ]
  },
  {
   "cell_type": "code",
   "execution_count": 88,
   "metadata": {},
   "outputs": [
    {
     "output_type": "execute_result",
     "data": {
      "text/plain": "   id Nombre  Edad  Ingresos  % Ingresos  % Ingresos Acum Cat Ingresos  \\\n0   2      B  20.0     999.0       68.80             68.8         Alto   \n1   2      B  20.0     999.0       68.80             68.8         Alto   \n2   4      D  51.0      20.0        1.38            100.0         Bajo   \n3  99    NaN   NaN       NaN         NaN              NaN          NaN   \n\n     Telf1    Telf2  telefono_norm     Prod  Precio  \n0      NaN  33333.0        33333.0  Cepillo     1.5  \n1      NaN  33333.0        33333.0  Entrada   300.0  \n2  99999.0      NaN        99999.0       PH    12.0  \n3      NaN      NaN            NaN      Car  5000.0  ",
      "text/html": "<div>\n<style scoped>\n    .dataframe tbody tr th:only-of-type {\n        vertical-align: middle;\n    }\n\n    .dataframe tbody tr th {\n        vertical-align: top;\n    }\n\n    .dataframe thead th {\n        text-align: right;\n    }\n</style>\n<table border=\"1\" class=\"dataframe\">\n  <thead>\n    <tr style=\"text-align: right;\">\n      <th></th>\n      <th>id</th>\n      <th>Nombre</th>\n      <th>Edad</th>\n      <th>Ingresos</th>\n      <th>% Ingresos</th>\n      <th>% Ingresos Acum</th>\n      <th>Cat Ingresos</th>\n      <th>Telf1</th>\n      <th>Telf2</th>\n      <th>telefono_norm</th>\n      <th>Prod</th>\n      <th>Precio</th>\n    </tr>\n  </thead>\n  <tbody>\n    <tr>\n      <th>0</th>\n      <td>2</td>\n      <td>B</td>\n      <td>20.0</td>\n      <td>999.0</td>\n      <td>68.80</td>\n      <td>68.8</td>\n      <td>Alto</td>\n      <td>NaN</td>\n      <td>33333.0</td>\n      <td>33333.0</td>\n      <td>Cepillo</td>\n      <td>1.5</td>\n    </tr>\n    <tr>\n      <th>1</th>\n      <td>2</td>\n      <td>B</td>\n      <td>20.0</td>\n      <td>999.0</td>\n      <td>68.80</td>\n      <td>68.8</td>\n      <td>Alto</td>\n      <td>NaN</td>\n      <td>33333.0</td>\n      <td>33333.0</td>\n      <td>Entrada</td>\n      <td>300.0</td>\n    </tr>\n    <tr>\n      <th>2</th>\n      <td>4</td>\n      <td>D</td>\n      <td>51.0</td>\n      <td>20.0</td>\n      <td>1.38</td>\n      <td>100.0</td>\n      <td>Bajo</td>\n      <td>99999.0</td>\n      <td>NaN</td>\n      <td>99999.0</td>\n      <td>PH</td>\n      <td>12.0</td>\n    </tr>\n    <tr>\n      <th>3</th>\n      <td>99</td>\n      <td>NaN</td>\n      <td>NaN</td>\n      <td>NaN</td>\n      <td>NaN</td>\n      <td>NaN</td>\n      <td>NaN</td>\n      <td>NaN</td>\n      <td>NaN</td>\n      <td>NaN</td>\n      <td>Car</td>\n      <td>5000.0</td>\n    </tr>\n  </tbody>\n</table>\n</div>"
     },
     "metadata": {},
     "execution_count": 88
    }
   ],
   "source": [
    "pd.merge(df, df_compras, how='right', on=['id'])"
   ]
  },
  {
   "cell_type": "code",
   "execution_count": 89,
   "metadata": {},
   "outputs": [
    {
     "output_type": "execute_result",
     "data": {
      "text/plain": "   id Nombre  Edad  Ingresos  % Ingresos  % Ingresos Acum Cat Ingresos  \\\n0   2      B    20       999       68.80             68.8         Alto   \n1   2      B    20       999       68.80             68.8         Alto   \n2   4      D    51        20        1.38            100.0         Bajo   \n\n     Telf1    Telf2  telefono_norm     Prod  Precio  \n0      NaN  33333.0        33333.0  Cepillo     1.5  \n1      NaN  33333.0        33333.0  Entrada   300.0  \n2  99999.0      NaN        99999.0       PH    12.0  ",
      "text/html": "<div>\n<style scoped>\n    .dataframe tbody tr th:only-of-type {\n        vertical-align: middle;\n    }\n\n    .dataframe tbody tr th {\n        vertical-align: top;\n    }\n\n    .dataframe thead th {\n        text-align: right;\n    }\n</style>\n<table border=\"1\" class=\"dataframe\">\n  <thead>\n    <tr style=\"text-align: right;\">\n      <th></th>\n      <th>id</th>\n      <th>Nombre</th>\n      <th>Edad</th>\n      <th>Ingresos</th>\n      <th>% Ingresos</th>\n      <th>% Ingresos Acum</th>\n      <th>Cat Ingresos</th>\n      <th>Telf1</th>\n      <th>Telf2</th>\n      <th>telefono_norm</th>\n      <th>Prod</th>\n      <th>Precio</th>\n    </tr>\n  </thead>\n  <tbody>\n    <tr>\n      <th>0</th>\n      <td>2</td>\n      <td>B</td>\n      <td>20</td>\n      <td>999</td>\n      <td>68.80</td>\n      <td>68.8</td>\n      <td>Alto</td>\n      <td>NaN</td>\n      <td>33333.0</td>\n      <td>33333.0</td>\n      <td>Cepillo</td>\n      <td>1.5</td>\n    </tr>\n    <tr>\n      <th>1</th>\n      <td>2</td>\n      <td>B</td>\n      <td>20</td>\n      <td>999</td>\n      <td>68.80</td>\n      <td>68.8</td>\n      <td>Alto</td>\n      <td>NaN</td>\n      <td>33333.0</td>\n      <td>33333.0</td>\n      <td>Entrada</td>\n      <td>300.0</td>\n    </tr>\n    <tr>\n      <th>2</th>\n      <td>4</td>\n      <td>D</td>\n      <td>51</td>\n      <td>20</td>\n      <td>1.38</td>\n      <td>100.0</td>\n      <td>Bajo</td>\n      <td>99999.0</td>\n      <td>NaN</td>\n      <td>99999.0</td>\n      <td>PH</td>\n      <td>12.0</td>\n    </tr>\n  </tbody>\n</table>\n</div>"
     },
     "metadata": {},
     "execution_count": 89
    }
   ],
   "source": [
    "pd.merge(df, df_compras, how='inner', on=['id'])"
   ]
  },
  {
   "cell_type": "code",
   "execution_count": 90,
   "metadata": {},
   "outputs": [
    {
     "output_type": "execute_result",
     "data": {
      "text/plain": "   id Nombre  Edad  Ingresos  % Ingresos  % Ingresos Acum Cat Ingresos  \\\n0   2      B  20.0     999.0       68.80            68.80         Alto   \n1   2      B  20.0     999.0       68.80            68.80         Alto   \n2   5      E  92.0     333.0       22.93            91.74      Regular   \n3   1      A  12.0     100.0        6.89            98.62         Bajo   \n4   4      D  51.0      20.0        1.38           100.00         Bajo   \n5  99    NaN   NaN       NaN         NaN              NaN          NaN   \n\n     Telf1    Telf2  telefono_norm     Prod  Precio  \n0      NaN  33333.0        33333.0  Cepillo     1.5  \n1      NaN  33333.0        33333.0  Entrada   300.0  \n2  12345.0  98765.0        12345.0      NaN     NaN  \n3      NaN      NaN            NaN      NaN     NaN  \n4  99999.0      NaN        99999.0       PH    12.0  \n5      NaN      NaN            NaN      Car  5000.0  ",
      "text/html": "<div>\n<style scoped>\n    .dataframe tbody tr th:only-of-type {\n        vertical-align: middle;\n    }\n\n    .dataframe tbody tr th {\n        vertical-align: top;\n    }\n\n    .dataframe thead th {\n        text-align: right;\n    }\n</style>\n<table border=\"1\" class=\"dataframe\">\n  <thead>\n    <tr style=\"text-align: right;\">\n      <th></th>\n      <th>id</th>\n      <th>Nombre</th>\n      <th>Edad</th>\n      <th>Ingresos</th>\n      <th>% Ingresos</th>\n      <th>% Ingresos Acum</th>\n      <th>Cat Ingresos</th>\n      <th>Telf1</th>\n      <th>Telf2</th>\n      <th>telefono_norm</th>\n      <th>Prod</th>\n      <th>Precio</th>\n    </tr>\n  </thead>\n  <tbody>\n    <tr>\n      <th>0</th>\n      <td>2</td>\n      <td>B</td>\n      <td>20.0</td>\n      <td>999.0</td>\n      <td>68.80</td>\n      <td>68.80</td>\n      <td>Alto</td>\n      <td>NaN</td>\n      <td>33333.0</td>\n      <td>33333.0</td>\n      <td>Cepillo</td>\n      <td>1.5</td>\n    </tr>\n    <tr>\n      <th>1</th>\n      <td>2</td>\n      <td>B</td>\n      <td>20.0</td>\n      <td>999.0</td>\n      <td>68.80</td>\n      <td>68.80</td>\n      <td>Alto</td>\n      <td>NaN</td>\n      <td>33333.0</td>\n      <td>33333.0</td>\n      <td>Entrada</td>\n      <td>300.0</td>\n    </tr>\n    <tr>\n      <th>2</th>\n      <td>5</td>\n      <td>E</td>\n      <td>92.0</td>\n      <td>333.0</td>\n      <td>22.93</td>\n      <td>91.74</td>\n      <td>Regular</td>\n      <td>12345.0</td>\n      <td>98765.0</td>\n      <td>12345.0</td>\n      <td>NaN</td>\n      <td>NaN</td>\n    </tr>\n    <tr>\n      <th>3</th>\n      <td>1</td>\n      <td>A</td>\n      <td>12.0</td>\n      <td>100.0</td>\n      <td>6.89</td>\n      <td>98.62</td>\n      <td>Bajo</td>\n      <td>NaN</td>\n      <td>NaN</td>\n      <td>NaN</td>\n      <td>NaN</td>\n      <td>NaN</td>\n    </tr>\n    <tr>\n      <th>4</th>\n      <td>4</td>\n      <td>D</td>\n      <td>51.0</td>\n      <td>20.0</td>\n      <td>1.38</td>\n      <td>100.00</td>\n      <td>Bajo</td>\n      <td>99999.0</td>\n      <td>NaN</td>\n      <td>99999.0</td>\n      <td>PH</td>\n      <td>12.0</td>\n    </tr>\n    <tr>\n      <th>5</th>\n      <td>99</td>\n      <td>NaN</td>\n      <td>NaN</td>\n      <td>NaN</td>\n      <td>NaN</td>\n      <td>NaN</td>\n      <td>NaN</td>\n      <td>NaN</td>\n      <td>NaN</td>\n      <td>NaN</td>\n      <td>Car</td>\n      <td>5000.0</td>\n    </tr>\n  </tbody>\n</table>\n</div>"
     },
     "metadata": {},
     "execution_count": 90
    }
   ],
   "source": [
    "pd.merge(df, df_compras, how='outer', on=['id'])"
   ]
  },
  {
   "cell_type": "markdown",
   "metadata": {},
   "source": [
    "## concatenate"
   ]
  },
  {
   "cell_type": "code",
   "execution_count": 95,
   "metadata": {},
   "outputs": [],
   "source": [
    "df1 = pd.DataFrame({'A': ['A0', 'A1', 'A2', 'A3'],\n",
    "'B': ['B0', 'B1', 'B2', 'B3'],\n",
    "'C': ['C0', 'C1', 'C2', 'C3'],\n",
    "'D': ['D0', 'D1', 'D2', 'D3']}) \n",
    "\n",
    "df2 = pd.DataFrame({'C': ['C4', 'C5', 'C6', 'C7'],\n",
    "'D': ['D4', 'D5', 'D6', 'D7'],\n",
    "'E': ['E4', 'E5', 'E6', 'E7'],\n",
    "'F': ['F4', 'F5', 'F6', 'F7']})"
   ]
  },
  {
   "cell_type": "code",
   "execution_count": 96,
   "metadata": {},
   "outputs": [
    {
     "output_type": "execute_result",
     "data": {
      "text/plain": "    A   B   C   D\n0  A0  B0  C0  D0\n1  A1  B1  C1  D1\n2  A2  B2  C2  D2\n3  A3  B3  C3  D3",
      "text/html": "<div>\n<style scoped>\n    .dataframe tbody tr th:only-of-type {\n        vertical-align: middle;\n    }\n\n    .dataframe tbody tr th {\n        vertical-align: top;\n    }\n\n    .dataframe thead th {\n        text-align: right;\n    }\n</style>\n<table border=\"1\" class=\"dataframe\">\n  <thead>\n    <tr style=\"text-align: right;\">\n      <th></th>\n      <th>A</th>\n      <th>B</th>\n      <th>C</th>\n      <th>D</th>\n    </tr>\n  </thead>\n  <tbody>\n    <tr>\n      <th>0</th>\n      <td>A0</td>\n      <td>B0</td>\n      <td>C0</td>\n      <td>D0</td>\n    </tr>\n    <tr>\n      <th>1</th>\n      <td>A1</td>\n      <td>B1</td>\n      <td>C1</td>\n      <td>D1</td>\n    </tr>\n    <tr>\n      <th>2</th>\n      <td>A2</td>\n      <td>B2</td>\n      <td>C2</td>\n      <td>D2</td>\n    </tr>\n    <tr>\n      <th>3</th>\n      <td>A3</td>\n      <td>B3</td>\n      <td>C3</td>\n      <td>D3</td>\n    </tr>\n  </tbody>\n</table>\n</div>"
     },
     "metadata": {},
     "execution_count": 96
    }
   ],
   "source": [
    "df1"
   ]
  },
  {
   "cell_type": "code",
   "execution_count": 97,
   "metadata": {},
   "outputs": [
    {
     "output_type": "execute_result",
     "data": {
      "text/plain": "    C   D   E   F\n0  C4  D4  E4  F4\n1  C5  D5  E5  F5\n2  C6  D6  E6  F6\n3  C7  D7  E7  F7",
      "text/html": "<div>\n<style scoped>\n    .dataframe tbody tr th:only-of-type {\n        vertical-align: middle;\n    }\n\n    .dataframe tbody tr th {\n        vertical-align: top;\n    }\n\n    .dataframe thead th {\n        text-align: right;\n    }\n</style>\n<table border=\"1\" class=\"dataframe\">\n  <thead>\n    <tr style=\"text-align: right;\">\n      <th></th>\n      <th>C</th>\n      <th>D</th>\n      <th>E</th>\n      <th>F</th>\n    </tr>\n  </thead>\n  <tbody>\n    <tr>\n      <th>0</th>\n      <td>C4</td>\n      <td>D4</td>\n      <td>E4</td>\n      <td>F4</td>\n    </tr>\n    <tr>\n      <th>1</th>\n      <td>C5</td>\n      <td>D5</td>\n      <td>E5</td>\n      <td>F5</td>\n    </tr>\n    <tr>\n      <th>2</th>\n      <td>C6</td>\n      <td>D6</td>\n      <td>E6</td>\n      <td>F6</td>\n    </tr>\n    <tr>\n      <th>3</th>\n      <td>C7</td>\n      <td>D7</td>\n      <td>E7</td>\n      <td>F7</td>\n    </tr>\n  </tbody>\n</table>\n</div>"
     },
     "metadata": {},
     "execution_count": 97
    }
   ],
   "source": [
    "df2"
   ]
  },
  {
   "cell_type": "code",
   "execution_count": 103,
   "metadata": {},
   "outputs": [
    {
     "output_type": "execute_result",
     "data": {
      "text/plain": "     A    B   C   D    E    F\n0   A0   B0  C0  D0  NaN  NaN\n1   A1   B1  C1  D1  NaN  NaN\n2   A2   B2  C2  D2  NaN  NaN\n3   A3   B3  C3  D3  NaN  NaN\n4  NaN  NaN  C4  D4   E4   F4\n5  NaN  NaN  C5  D5   E5   F5\n6  NaN  NaN  C6  D6   E6   F6\n7  NaN  NaN  C7  D7   E7   F7",
      "text/html": "<div>\n<style scoped>\n    .dataframe tbody tr th:only-of-type {\n        vertical-align: middle;\n    }\n\n    .dataframe tbody tr th {\n        vertical-align: top;\n    }\n\n    .dataframe thead th {\n        text-align: right;\n    }\n</style>\n<table border=\"1\" class=\"dataframe\">\n  <thead>\n    <tr style=\"text-align: right;\">\n      <th></th>\n      <th>A</th>\n      <th>B</th>\n      <th>C</th>\n      <th>D</th>\n      <th>E</th>\n      <th>F</th>\n    </tr>\n  </thead>\n  <tbody>\n    <tr>\n      <th>0</th>\n      <td>A0</td>\n      <td>B0</td>\n      <td>C0</td>\n      <td>D0</td>\n      <td>NaN</td>\n      <td>NaN</td>\n    </tr>\n    <tr>\n      <th>1</th>\n      <td>A1</td>\n      <td>B1</td>\n      <td>C1</td>\n      <td>D1</td>\n      <td>NaN</td>\n      <td>NaN</td>\n    </tr>\n    <tr>\n      <th>2</th>\n      <td>A2</td>\n      <td>B2</td>\n      <td>C2</td>\n      <td>D2</td>\n      <td>NaN</td>\n      <td>NaN</td>\n    </tr>\n    <tr>\n      <th>3</th>\n      <td>A3</td>\n      <td>B3</td>\n      <td>C3</td>\n      <td>D3</td>\n      <td>NaN</td>\n      <td>NaN</td>\n    </tr>\n    <tr>\n      <th>4</th>\n      <td>NaN</td>\n      <td>NaN</td>\n      <td>C4</td>\n      <td>D4</td>\n      <td>E4</td>\n      <td>F4</td>\n    </tr>\n    <tr>\n      <th>5</th>\n      <td>NaN</td>\n      <td>NaN</td>\n      <td>C5</td>\n      <td>D5</td>\n      <td>E5</td>\n      <td>F5</td>\n    </tr>\n    <tr>\n      <th>6</th>\n      <td>NaN</td>\n      <td>NaN</td>\n      <td>C6</td>\n      <td>D6</td>\n      <td>E6</td>\n      <td>F6</td>\n    </tr>\n    <tr>\n      <th>7</th>\n      <td>NaN</td>\n      <td>NaN</td>\n      <td>C7</td>\n      <td>D7</td>\n      <td>E7</td>\n      <td>F7</td>\n    </tr>\n  </tbody>\n</table>\n</div>"
     },
     "metadata": {},
     "execution_count": 103
    }
   ],
   "source": [
    "pd.concat([df1, df2], ignore_index=True, sort=True, axis=0)"
   ]
  },
  {
   "cell_type": "code",
   "execution_count": 108,
   "metadata": {},
   "outputs": [
    {
     "output_type": "execute_result",
     "data": {
      "text/plain": "    A   B   C   D   C   D   E   F\n0  A0  B0  C0  D0  C4  D4  E4  F4\n1  A1  B1  C1  D1  C5  D5  E5  F5\n2  A2  B2  C2  D2  C6  D6  E6  F6\n3  A3  B3  C3  D3  C7  D7  E7  F7",
      "text/html": "<div>\n<style scoped>\n    .dataframe tbody tr th:only-of-type {\n        vertical-align: middle;\n    }\n\n    .dataframe tbody tr th {\n        vertical-align: top;\n    }\n\n    .dataframe thead th {\n        text-align: right;\n    }\n</style>\n<table border=\"1\" class=\"dataframe\">\n  <thead>\n    <tr style=\"text-align: right;\">\n      <th></th>\n      <th>A</th>\n      <th>B</th>\n      <th>C</th>\n      <th>D</th>\n      <th>C</th>\n      <th>D</th>\n      <th>E</th>\n      <th>F</th>\n    </tr>\n  </thead>\n  <tbody>\n    <tr>\n      <th>0</th>\n      <td>A0</td>\n      <td>B0</td>\n      <td>C0</td>\n      <td>D0</td>\n      <td>C4</td>\n      <td>D4</td>\n      <td>E4</td>\n      <td>F4</td>\n    </tr>\n    <tr>\n      <th>1</th>\n      <td>A1</td>\n      <td>B1</td>\n      <td>C1</td>\n      <td>D1</td>\n      <td>C5</td>\n      <td>D5</td>\n      <td>E5</td>\n      <td>F5</td>\n    </tr>\n    <tr>\n      <th>2</th>\n      <td>A2</td>\n      <td>B2</td>\n      <td>C2</td>\n      <td>D2</td>\n      <td>C6</td>\n      <td>D6</td>\n      <td>E6</td>\n      <td>F6</td>\n    </tr>\n    <tr>\n      <th>3</th>\n      <td>A3</td>\n      <td>B3</td>\n      <td>C3</td>\n      <td>D3</td>\n      <td>C7</td>\n      <td>D7</td>\n      <td>E7</td>\n      <td>F7</td>\n    </tr>\n  </tbody>\n</table>\n</div>"
     },
     "metadata": {},
     "execution_count": 108
    }
   ],
   "source": [
    "pd.concat([df1, df2], ignore_index=False, sort=True, axis=1)#, verify_integrity=True)"
   ]
  },
  {
   "cell_type": "code",
   "execution_count": null,
   "metadata": {},
   "outputs": [],
   "source": []
  }
 ],
 "metadata": {
  "language_info": {
   "codemirror_mode": {
    "name": "ipython",
    "version": 3
   },
   "file_extension": ".py",
   "mimetype": "text/x-python",
   "name": "python",
   "nbconvert_exporter": "python",
   "pygments_lexer": "ipython3",
   "version": "3.8.1-final"
  },
  "orig_nbformat": 2,
  "kernelspec": {
   "name": "python38164bitvenvvenvd7d66b7a3c414943af573b211fc62caf",
   "display_name": "Python 3.8.1 64-bit ('.venv': venv)"
  }
 },
 "nbformat": 4,
 "nbformat_minor": 2
}